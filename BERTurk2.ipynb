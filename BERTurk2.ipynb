{
  "cells": [
    {
      "source": [
        "\n",
        "import os\n",
        "import sys\n",
        "from tempfile import NamedTemporaryFile\n",
        "from urllib.request import urlopen\n",
        "from urllib.parse import unquote, urlparse\n",
        "from urllib.error import HTTPError\n",
        "from zipfile import ZipFile\n",
        "import tarfile\n",
        "import shutil\n",
        "\n",
        "CHUNK_SIZE = 40960\n",
        "DATA_SOURCE_MAPPING = 'turkish-sentiment-analysis-data-beyazperdecom:https%3A%2F%2Fstorage.googleapis.com%2Fkaggle-data-sets%2F843370%2F1439227%2Fbundle%2Farchive.zip%3FX-Goog-Algorithm%3DGOOG4-RSA-SHA256%26X-Goog-Credential%3Dgcp-kaggle-com%2540kaggle-161607.iam.gserviceaccount.com%252F20240807%252Fauto%252Fstorage%252Fgoog4_request%26X-Goog-Date%3D20240807T085111Z%26X-Goog-Expires%3D259200%26X-Goog-SignedHeaders%3Dhost%26X-Goog-Signature%3D32133ff546aecf291265cf1acc3e0493a60e6d3e25ff532275952bfd52ef52cf7ab277cbf1ac0fa70d32d328ab2b15e1cf42702ad744344ff4b6fecf3fb7a1d36176398cd22e6bef8652668be6df1126d9da3335efd2d5508600f17d9504f470abd85c6376218613c37734ebbcff3b0a67d7c51f2eec1840f6357005817ab53765f551a7366a46272efa60b438ad84dd860903ffb4621c3307a984c7a0b2b30c27b73637aad1c5530a82861dec03f2a51c25d6bfb57d507783f414783e13dbe51f305d3d0ecc90cdd721edcd270c619c92648c20a7240182dc682b6eb64d31e0d0c0c70d55949b7116e711c182cfe6cf33164f01d2a00105ea9f5fc863835c1b'\n",
        "\n",
        "KAGGLE_INPUT_PATH='/kaggle/input'\n",
        "KAGGLE_WORKING_PATH='/kaggle/working'\n",
        "KAGGLE_SYMLINK='kaggle'\n",
        "\n",
        "!umount /kaggle/input/ 2> /dev/null\n",
        "shutil.rmtree('/kaggle/input', ignore_errors=True)\n",
        "os.makedirs(KAGGLE_INPUT_PATH, 0o777, exist_ok=True)\n",
        "os.makedirs(KAGGLE_WORKING_PATH, 0o777, exist_ok=True)\n",
        "\n",
        "try:\n",
        "  os.symlink(KAGGLE_INPUT_PATH, os.path.join(\"..\", 'input'), target_is_directory=True)\n",
        "except FileExistsError:\n",
        "  pass\n",
        "try:\n",
        "  os.symlink(KAGGLE_WORKING_PATH, os.path.join(\"..\", 'working'), target_is_directory=True)\n",
        "except FileExistsError:\n",
        "  pass\n",
        "\n",
        "for data_source_mapping in DATA_SOURCE_MAPPING.split(','):\n",
        "    directory, download_url_encoded = data_source_mapping.split(':')\n",
        "    download_url = unquote(download_url_encoded)\n",
        "    filename = urlparse(download_url).path\n",
        "    destination_path = os.path.join(KAGGLE_INPUT_PATH, directory)\n",
        "    try:\n",
        "        with urlopen(download_url) as fileres, NamedTemporaryFile() as tfile:\n",
        "            total_length = fileres.headers['content-length']\n",
        "            print(f'Downloading {directory}, {total_length} bytes compressed')\n",
        "            dl = 0\n",
        "            data = fileres.read(CHUNK_SIZE)\n",
        "            while len(data) > 0:\n",
        "                dl += len(data)\n",
        "                tfile.write(data)\n",
        "                done = int(50 * dl / int(total_length))\n",
        "                sys.stdout.write(f\"\\r[{'=' * done}{' ' * (50-done)}] {dl} bytes downloaded\")\n",
        "                sys.stdout.flush()\n",
        "                data = fileres.read(CHUNK_SIZE)\n",
        "            if filename.endswith('.zip'):\n",
        "              with ZipFile(tfile) as zfile:\n",
        "                zfile.extractall(destination_path)\n",
        "            else:\n",
        "              with tarfile.open(tfile.name) as tarfile:\n",
        "                tarfile.extractall(destination_path)\n",
        "            print(f'\\nDownloaded and uncompressed: {directory}')\n",
        "    except HTTPError as e:\n",
        "        print(f'Failed to load (likely expired) {download_url} to path {destination_path}')\n",
        "        continue\n",
        "    except OSError as e:\n",
        "        print(f'Failed to load {download_url} to path {destination_path}')\n",
        "        continue\n",
        "\n",
        "print('Data source import complete.')\n"
      ],
      "metadata": {
        "id": "NTRuKbU_CP4c",
        "colab": {
          "base_uri": "https://localhost:8080/"
        },
        "outputId": "55ad1e5d-5530-4908-be2f-9abe6e6e4671"
      },
      "cell_type": "code",
      "outputs": [
        {
          "output_type": "stream",
          "name": "stdout",
          "text": [
            "Downloading turkish-sentiment-analysis-data-beyazperdecom, 603482 bytes compressed\n",
            "[==================================================] 603482 bytes downloaded\n",
            "Downloaded and uncompressed: turkish-sentiment-analysis-data-beyazperdecom\n",
            "Data source import complete.\n"
          ]
        }
      ],
      "execution_count": null
    },
    {
      "metadata": {
        "_uuid": "8f2839f25d086af736a60e9eeb907d3b93b6e0e5",
        "_cell_guid": "b1076dfc-b9ad-4769-8c92-a6c4dae69d19",
        "trusted": true,
        "id": "fE-oNAakCP4g",
        "colab": {
          "base_uri": "https://localhost:8080/"
        },
        "outputId": "c73cbec0-2314-42ba-b7b7-0a2908223044"
      },
      "cell_type": "code",
      "source": [
        "import numpy as np\n",
        "import pandas as pd\n",
        "\n",
        "for dirname, _, filenames in os.walk('/kaggle/input'):\n",
        "    for filename in filenames:\n",
        "        print(os.path.join(dirname, filename))"
      ],
      "execution_count": null,
      "outputs": [
        {
          "output_type": "stream",
          "name": "stdout",
          "text": [
            "/kaggle/input/turkish-sentiment-analysis-data-beyazperdecom/test.csv\n",
            "/kaggle/input/turkish-sentiment-analysis-data-beyazperdecom/train.csv\n"
          ]
        }
      ]
    },
    {
      "metadata": {
        "id": "ipaZ5uzvCP4h"
      },
      "cell_type": "markdown",
      "source": [
        " [BERTurk pretrained language model](https://github.com/stefan-it/turkish-bert)"
      ]
    },
    {
      "metadata": {
        "_uuid": "d629ff2d2480ee46fbb7e2d37f6b5fab8052498a",
        "_cell_guid": "79c7e3d0-c299-4dcb-8224-4455121ee9b0",
        "trusted": true,
        "id": "p7AVPQ3fCP4j",
        "colab": {
          "base_uri": "https://localhost:8080/"
        },
        "outputId": "fd868373-d0c2-4346-fd0f-b8c89450a348"
      },
      "cell_type": "code",
      "source": [
        "import torch\n",
        "if torch.cuda.is_available():\n",
        "    device = torch.device(\"cuda\")\n",
        "    print('We will use the GPU:', torch.cuda.get_device_name(0))\n",
        "\n",
        "else:\n",
        "    print('No GPU available, using the CPU instead.')\n",
        "    device = torch.device(\"cpu\")"
      ],
      "execution_count": null,
      "outputs": [
        {
          "output_type": "stream",
          "name": "stdout",
          "text": [
            "We will use the GPU: Tesla T4\n"
          ]
        }
      ]
    },
    {
      "metadata": {
        "id": "oK4JN4-hCP4j"
      },
      "cell_type": "markdown",
      "source": [
        "# 1) Veri Analizi\n"
      ]
    },
    {
      "metadata": {
        "trusted": true,
        "id": "tsydsM2rCP4k"
      },
      "cell_type": "code",
      "source": [
        "df_train=pd.read_csv(\"/kaggle/input/turkish-sentiment-analysis-data-beyazperdecom/train.csv\",index_col=[0],encoding=\"windows-1252\")\n",
        "df_test=pd.read_csv(\"/kaggle/input/turkish-sentiment-analysis-data-beyazperdecom/test.csv\",index_col=[0],encoding=\"windows-1252\")"
      ],
      "execution_count": null,
      "outputs": []
    },
    {
      "metadata": {
        "trusted": true,
        "id": "sNum53NSCP4k",
        "colab": {
          "base_uri": "https://localhost:8080/",
          "height": 206
        },
        "outputId": "10d2cc4b-236c-41e2-994c-e76548c29955"
      },
      "cell_type": "code",
      "source": [
        "df_train.head()"
      ],
      "execution_count": null,
      "outputs": [
        {
          "output_type": "execute_result",
          "data": {
            "text/plain": [
              "                                             comment  Label\n",
              "0  biri bana bu filmde benim anlamadigim bisey ol...      0\n",
              "1  ya çocuklar ilk filmin sonunda büyüdüler ya bu...      1\n",
              "2  film biraz daha uzun sürse harbi kiyameti göre...      0\n",
              "3  pek orjinal bi cinayet yok ama orjinal oyuncul...      0\n",
              "4  film tek kelimeyle muhtesemdi heleki sonundaki...      1"
            ],
            "text/html": [
              "\n",
              "  <div id=\"df-c8334c04-a050-4124-ae22-a3ba349063b7\" class=\"colab-df-container\">\n",
              "    <div>\n",
              "<style scoped>\n",
              "    .dataframe tbody tr th:only-of-type {\n",
              "        vertical-align: middle;\n",
              "    }\n",
              "\n",
              "    .dataframe tbody tr th {\n",
              "        vertical-align: top;\n",
              "    }\n",
              "\n",
              "    .dataframe thead th {\n",
              "        text-align: right;\n",
              "    }\n",
              "</style>\n",
              "<table border=\"1\" class=\"dataframe\">\n",
              "  <thead>\n",
              "    <tr style=\"text-align: right;\">\n",
              "      <th></th>\n",
              "      <th>comment</th>\n",
              "      <th>Label</th>\n",
              "    </tr>\n",
              "  </thead>\n",
              "  <tbody>\n",
              "    <tr>\n",
              "      <th>0</th>\n",
              "      <td>biri bana bu filmde benim anlamadigim bisey ol...</td>\n",
              "      <td>0</td>\n",
              "    </tr>\n",
              "    <tr>\n",
              "      <th>1</th>\n",
              "      <td>ya çocuklar ilk filmin sonunda büyüdüler ya bu...</td>\n",
              "      <td>1</td>\n",
              "    </tr>\n",
              "    <tr>\n",
              "      <th>2</th>\n",
              "      <td>film biraz daha uzun sürse harbi kiyameti göre...</td>\n",
              "      <td>0</td>\n",
              "    </tr>\n",
              "    <tr>\n",
              "      <th>3</th>\n",
              "      <td>pek orjinal bi cinayet yok ama orjinal oyuncul...</td>\n",
              "      <td>0</td>\n",
              "    </tr>\n",
              "    <tr>\n",
              "      <th>4</th>\n",
              "      <td>film tek kelimeyle muhtesemdi heleki sonundaki...</td>\n",
              "      <td>1</td>\n",
              "    </tr>\n",
              "  </tbody>\n",
              "</table>\n",
              "</div>\n",
              "    <div class=\"colab-df-buttons\">\n",
              "\n",
              "  <div class=\"colab-df-container\">\n",
              "    <button class=\"colab-df-convert\" onclick=\"convertToInteractive('df-c8334c04-a050-4124-ae22-a3ba349063b7')\"\n",
              "            title=\"Convert this dataframe to an interactive table.\"\n",
              "            style=\"display:none;\">\n",
              "\n",
              "  <svg xmlns=\"http://www.w3.org/2000/svg\" height=\"24px\" viewBox=\"0 -960 960 960\">\n",
              "    <path d=\"M120-120v-720h720v720H120Zm60-500h600v-160H180v160Zm220 220h160v-160H400v160Zm0 220h160v-160H400v160ZM180-400h160v-160H180v160Zm440 0h160v-160H620v160ZM180-180h160v-160H180v160Zm440 0h160v-160H620v160Z\"/>\n",
              "  </svg>\n",
              "    </button>\n",
              "\n",
              "  <style>\n",
              "    .colab-df-container {\n",
              "      display:flex;\n",
              "      gap: 12px;\n",
              "    }\n",
              "\n",
              "    .colab-df-convert {\n",
              "      background-color: #E8F0FE;\n",
              "      border: none;\n",
              "      border-radius: 50%;\n",
              "      cursor: pointer;\n",
              "      display: none;\n",
              "      fill: #1967D2;\n",
              "      height: 32px;\n",
              "      padding: 0 0 0 0;\n",
              "      width: 32px;\n",
              "    }\n",
              "\n",
              "    .colab-df-convert:hover {\n",
              "      background-color: #E2EBFA;\n",
              "      box-shadow: 0px 1px 2px rgba(60, 64, 67, 0.3), 0px 1px 3px 1px rgba(60, 64, 67, 0.15);\n",
              "      fill: #174EA6;\n",
              "    }\n",
              "\n",
              "    .colab-df-buttons div {\n",
              "      margin-bottom: 4px;\n",
              "    }\n",
              "\n",
              "    [theme=dark] .colab-df-convert {\n",
              "      background-color: #3B4455;\n",
              "      fill: #D2E3FC;\n",
              "    }\n",
              "\n",
              "    [theme=dark] .colab-df-convert:hover {\n",
              "      background-color: #434B5C;\n",
              "      box-shadow: 0px 1px 3px 1px rgba(0, 0, 0, 0.15);\n",
              "      filter: drop-shadow(0px 1px 2px rgba(0, 0, 0, 0.3));\n",
              "      fill: #FFFFFF;\n",
              "    }\n",
              "  </style>\n",
              "\n",
              "    <script>\n",
              "      const buttonEl =\n",
              "        document.querySelector('#df-c8334c04-a050-4124-ae22-a3ba349063b7 button.colab-df-convert');\n",
              "      buttonEl.style.display =\n",
              "        google.colab.kernel.accessAllowed ? 'block' : 'none';\n",
              "\n",
              "      async function convertToInteractive(key) {\n",
              "        const element = document.querySelector('#df-c8334c04-a050-4124-ae22-a3ba349063b7');\n",
              "        const dataTable =\n",
              "          await google.colab.kernel.invokeFunction('convertToInteractive',\n",
              "                                                    [key], {});\n",
              "        if (!dataTable) return;\n",
              "\n",
              "        const docLinkHtml = 'Like what you see? Visit the ' +\n",
              "          '<a target=\"_blank\" href=https://colab.research.google.com/notebooks/data_table.ipynb>data table notebook</a>'\n",
              "          + ' to learn more about interactive tables.';\n",
              "        element.innerHTML = '';\n",
              "        dataTable['output_type'] = 'display_data';\n",
              "        await google.colab.output.renderOutput(dataTable, element);\n",
              "        const docLink = document.createElement('div');\n",
              "        docLink.innerHTML = docLinkHtml;\n",
              "        element.appendChild(docLink);\n",
              "      }\n",
              "    </script>\n",
              "  </div>\n",
              "\n",
              "\n",
              "<div id=\"df-e9ff4660-35d0-4f29-ad54-b0ed72669fb7\">\n",
              "  <button class=\"colab-df-quickchart\" onclick=\"quickchart('df-e9ff4660-35d0-4f29-ad54-b0ed72669fb7')\"\n",
              "            title=\"Suggest charts\"\n",
              "            style=\"display:none;\">\n",
              "\n",
              "<svg xmlns=\"http://www.w3.org/2000/svg\" height=\"24px\"viewBox=\"0 0 24 24\"\n",
              "     width=\"24px\">\n",
              "    <g>\n",
              "        <path d=\"M19 3H5c-1.1 0-2 .9-2 2v14c0 1.1.9 2 2 2h14c1.1 0 2-.9 2-2V5c0-1.1-.9-2-2-2zM9 17H7v-7h2v7zm4 0h-2V7h2v10zm4 0h-2v-4h2v4z\"/>\n",
              "    </g>\n",
              "</svg>\n",
              "  </button>\n",
              "\n",
              "<style>\n",
              "  .colab-df-quickchart {\n",
              "      --bg-color: #E8F0FE;\n",
              "      --fill-color: #1967D2;\n",
              "      --hover-bg-color: #E2EBFA;\n",
              "      --hover-fill-color: #174EA6;\n",
              "      --disabled-fill-color: #AAA;\n",
              "      --disabled-bg-color: #DDD;\n",
              "  }\n",
              "\n",
              "  [theme=dark] .colab-df-quickchart {\n",
              "      --bg-color: #3B4455;\n",
              "      --fill-color: #D2E3FC;\n",
              "      --hover-bg-color: #434B5C;\n",
              "      --hover-fill-color: #FFFFFF;\n",
              "      --disabled-bg-color: #3B4455;\n",
              "      --disabled-fill-color: #666;\n",
              "  }\n",
              "\n",
              "  .colab-df-quickchart {\n",
              "    background-color: var(--bg-color);\n",
              "    border: none;\n",
              "    border-radius: 50%;\n",
              "    cursor: pointer;\n",
              "    display: none;\n",
              "    fill: var(--fill-color);\n",
              "    height: 32px;\n",
              "    padding: 0;\n",
              "    width: 32px;\n",
              "  }\n",
              "\n",
              "  .colab-df-quickchart:hover {\n",
              "    background-color: var(--hover-bg-color);\n",
              "    box-shadow: 0 1px 2px rgba(60, 64, 67, 0.3), 0 1px 3px 1px rgba(60, 64, 67, 0.15);\n",
              "    fill: var(--button-hover-fill-color);\n",
              "  }\n",
              "\n",
              "  .colab-df-quickchart-complete:disabled,\n",
              "  .colab-df-quickchart-complete:disabled:hover {\n",
              "    background-color: var(--disabled-bg-color);\n",
              "    fill: var(--disabled-fill-color);\n",
              "    box-shadow: none;\n",
              "  }\n",
              "\n",
              "  .colab-df-spinner {\n",
              "    border: 2px solid var(--fill-color);\n",
              "    border-color: transparent;\n",
              "    border-bottom-color: var(--fill-color);\n",
              "    animation:\n",
              "      spin 1s steps(1) infinite;\n",
              "  }\n",
              "\n",
              "  @keyframes spin {\n",
              "    0% {\n",
              "      border-color: transparent;\n",
              "      border-bottom-color: var(--fill-color);\n",
              "      border-left-color: var(--fill-color);\n",
              "    }\n",
              "    20% {\n",
              "      border-color: transparent;\n",
              "      border-left-color: var(--fill-color);\n",
              "      border-top-color: var(--fill-color);\n",
              "    }\n",
              "    30% {\n",
              "      border-color: transparent;\n",
              "      border-left-color: var(--fill-color);\n",
              "      border-top-color: var(--fill-color);\n",
              "      border-right-color: var(--fill-color);\n",
              "    }\n",
              "    40% {\n",
              "      border-color: transparent;\n",
              "      border-right-color: var(--fill-color);\n",
              "      border-top-color: var(--fill-color);\n",
              "    }\n",
              "    60% {\n",
              "      border-color: transparent;\n",
              "      border-right-color: var(--fill-color);\n",
              "    }\n",
              "    80% {\n",
              "      border-color: transparent;\n",
              "      border-right-color: var(--fill-color);\n",
              "      border-bottom-color: var(--fill-color);\n",
              "    }\n",
              "    90% {\n",
              "      border-color: transparent;\n",
              "      border-bottom-color: var(--fill-color);\n",
              "    }\n",
              "  }\n",
              "</style>\n",
              "\n",
              "  <script>\n",
              "    async function quickchart(key) {\n",
              "      const quickchartButtonEl =\n",
              "        document.querySelector('#' + key + ' button');\n",
              "      quickchartButtonEl.disabled = true;  // To prevent multiple clicks.\n",
              "      quickchartButtonEl.classList.add('colab-df-spinner');\n",
              "      try {\n",
              "        const charts = await google.colab.kernel.invokeFunction(\n",
              "            'suggestCharts', [key], {});\n",
              "      } catch (error) {\n",
              "        console.error('Error during call to suggestCharts:', error);\n",
              "      }\n",
              "      quickchartButtonEl.classList.remove('colab-df-spinner');\n",
              "      quickchartButtonEl.classList.add('colab-df-quickchart-complete');\n",
              "    }\n",
              "    (() => {\n",
              "      let quickchartButtonEl =\n",
              "        document.querySelector('#df-e9ff4660-35d0-4f29-ad54-b0ed72669fb7 button');\n",
              "      quickchartButtonEl.style.display =\n",
              "        google.colab.kernel.accessAllowed ? 'block' : 'none';\n",
              "    })();\n",
              "  </script>\n",
              "</div>\n",
              "\n",
              "    </div>\n",
              "  </div>\n"
            ],
            "application/vnd.google.colaboratory.intrinsic+json": {
              "type": "dataframe",
              "variable_name": "df_train",
              "summary": "{\n  \"name\": \"df_train\",\n  \"rows\": 7996,\n  \"fields\": [\n    {\n      \"column\": \"comment\",\n      \"properties\": {\n        \"dtype\": \"string\",\n        \"num_unique_values\": 7979,\n        \"samples\": [\n          \"kusursuz m\\u00fckkemmel... az \\u00f6nce ki bir film miydi yoksa ger\\u00e7ek olmayacak kadar g\\u00fczel bir d\\u00fcsm\\u00fcyd\\u00fc... mutlak izlenmeli.\\u00f6zellikle dvd alip daha net bir g\\u00f6r\\u00fcnt\\u00fcde izlenmeli. 10 \\u00fczerinden 20 veriyorum... filmin sonundaki sarkida bir harikaaa..... \\n\",\n          \"tek kelimeyle m\\u00fckemmel bir film , insani i\\u00e7ine \\u00e7eken , sonunu merakla beklediginiz ve her yas grubuna hitap eden s\\u00fcper bir film. mutlaka izlemelisiniz. \\n\",\n          \"tek kelimeyle berbat. . \\n\"\n        ],\n        \"semantic_type\": \"\",\n        \"description\": \"\"\n      }\n    },\n    {\n      \"column\": \"Label\",\n      \"properties\": {\n        \"dtype\": \"number\",\n        \"std\": 0,\n        \"min\": 0,\n        \"max\": 1,\n        \"num_unique_values\": 2,\n        \"samples\": [\n          1,\n          0\n        ],\n        \"semantic_type\": \"\",\n        \"description\": \"\"\n      }\n    }\n  ]\n}"
            }
          },
          "metadata": {},
          "execution_count": 5
        }
      ]
    },
    {
      "metadata": {
        "trusted": true,
        "id": "VQZw3gNICP4l",
        "colab": {
          "base_uri": "https://localhost:8080/",
          "height": 178
        },
        "outputId": "5540c277-0fd8-4f98-d191-b37aae18e0fa"
      },
      "cell_type": "code",
      "source": [
        "df_train[\"Label\"].value_counts()"
      ],
      "execution_count": null,
      "outputs": [
        {
          "output_type": "execute_result",
          "data": {
            "text/plain": [
              "Label\n",
              "0    3998\n",
              "1    3998\n",
              "Name: count, dtype: int64"
            ],
            "text/html": [
              "<div>\n",
              "<style scoped>\n",
              "    .dataframe tbody tr th:only-of-type {\n",
              "        vertical-align: middle;\n",
              "    }\n",
              "\n",
              "    .dataframe tbody tr th {\n",
              "        vertical-align: top;\n",
              "    }\n",
              "\n",
              "    .dataframe thead th {\n",
              "        text-align: right;\n",
              "    }\n",
              "</style>\n",
              "<table border=\"1\" class=\"dataframe\">\n",
              "  <thead>\n",
              "    <tr style=\"text-align: right;\">\n",
              "      <th></th>\n",
              "      <th>count</th>\n",
              "    </tr>\n",
              "    <tr>\n",
              "      <th>Label</th>\n",
              "      <th></th>\n",
              "    </tr>\n",
              "  </thead>\n",
              "  <tbody>\n",
              "    <tr>\n",
              "      <th>0</th>\n",
              "      <td>3998</td>\n",
              "    </tr>\n",
              "    <tr>\n",
              "      <th>1</th>\n",
              "      <td>3998</td>\n",
              "    </tr>\n",
              "  </tbody>\n",
              "</table>\n",
              "</div><br><label><b>dtype:</b> int64</label>"
            ]
          },
          "metadata": {},
          "execution_count": 6
        }
      ]
    },
    {
      "metadata": {
        "trusted": true,
        "id": "OLSM2BteCP4l",
        "colab": {
          "base_uri": "https://localhost:8080/",
          "height": 147
        },
        "outputId": "0955e863-2b02-4abb-cc9f-f8c008715979"
      },
      "cell_type": "code",
      "source": [
        "df_train.isna().sum()"
      ],
      "execution_count": null,
      "outputs": [
        {
          "output_type": "execute_result",
          "data": {
            "text/plain": [
              "comment    0\n",
              "Label      0\n",
              "dtype: int64"
            ],
            "text/html": [
              "<div>\n",
              "<style scoped>\n",
              "    .dataframe tbody tr th:only-of-type {\n",
              "        vertical-align: middle;\n",
              "    }\n",
              "\n",
              "    .dataframe tbody tr th {\n",
              "        vertical-align: top;\n",
              "    }\n",
              "\n",
              "    .dataframe thead th {\n",
              "        text-align: right;\n",
              "    }\n",
              "</style>\n",
              "<table border=\"1\" class=\"dataframe\">\n",
              "  <thead>\n",
              "    <tr style=\"text-align: right;\">\n",
              "      <th></th>\n",
              "      <th>0</th>\n",
              "    </tr>\n",
              "  </thead>\n",
              "  <tbody>\n",
              "    <tr>\n",
              "      <th>comment</th>\n",
              "      <td>0</td>\n",
              "    </tr>\n",
              "    <tr>\n",
              "      <th>Label</th>\n",
              "      <td>0</td>\n",
              "    </tr>\n",
              "  </tbody>\n",
              "</table>\n",
              "</div><br><label><b>dtype:</b> int64</label>"
            ]
          },
          "metadata": {},
          "execution_count": 7
        }
      ]
    },
    {
      "metadata": {
        "id": "ddkVTOWHCP4m"
      },
      "cell_type": "markdown",
      "source": [
        "## Her sınıf için Uniram ve Bigram Dağılımları"
      ]
    },
    {
      "metadata": {
        "id": "s0YkgUuCCP4m"
      },
      "cell_type": "markdown",
      "source": [
        "### **POZİTİF SINIF UNIGRAMLARI**"
      ]
    },
    {
      "metadata": {
        "trusted": true,
        "id": "RgWLLm2XCP4m",
        "colab": {
          "base_uri": "https://localhost:8080/"
        },
        "outputId": "18ab270b-e523-4c67-98b0-17c6149266fd"
      },
      "cell_type": "code",
      "source": [
        "import string\n",
        "import nltk\n",
        "from nltk import word_tokenize\n",
        "from nltk.corpus import stopwords\n",
        "from collections import Counter\n",
        "\n",
        "nltk.download('punkt')\n",
        "nltk.download('stopwords')\n",
        "stop_words=stopwords.words(\"turkish\")\n",
        "stop_words.extend([\"bir\",\"film\",\"filmi\",\"filme\",\"filmde\",\"filmden\",\"filmin\",\"kadar\",\"bi\",\"ben\"]) #sone extra corpus-related stopwords\n",
        "\n",
        "exclude = set(string.punctuation)\n",
        "\n",
        "#pozitif duygular\n",
        "df_pos=df_train[df_train[\"Label\"]==1]\n",
        "\n",
        "#sadece unigramlar için\n",
        "token_list=[]\n",
        "\n",
        "for i,r in df_pos.iterrows():\n",
        "    text=''.join(ch for ch in df_pos[\"comment\"][i] if ch not in exclude and ch != \"’\") #remove punctuations from the text in order not to distort frequencies\n",
        "    tokens=word_tokenize(text)\n",
        "    tokens=[tok.lower() for tok in tokens if tok not in stop_words] #remove stopwords from the text in order not to distort frequencies\n",
        "    token_list.extend(tokens)\n",
        "\n",
        "frequencies=Counter(token_list)\n",
        "frequencies_sorted=sorted(frequencies.items(), key=lambda k: k[1],reverse=True)\n",
        "top_15=dict(frequencies_sorted[0:15])"
      ],
      "execution_count": null,
      "outputs": [
        {
          "output_type": "stream",
          "name": "stderr",
          "text": [
            "[nltk_data] Downloading package punkt to /root/nltk_data...\n",
            "[nltk_data]   Unzipping tokenizers/punkt.zip.\n",
            "[nltk_data] Downloading package stopwords to /root/nltk_data...\n",
            "[nltk_data]   Unzipping corpora/stopwords.zip.\n"
          ]
        }
      ]
    },
    {
      "metadata": {
        "trusted": true,
        "id": "EA-yHWQOCP4n",
        "colab": {
          "base_uri": "https://localhost:8080/",
          "height": 472
        },
        "outputId": "91bb2eb4-e57c-43da-cab8-7fabd65b8fc2"
      },
      "cell_type": "code",
      "source": [
        "import matplotlib.pyplot as plt\n",
        "import numpy as np\n",
        "\n",
        "plt.rcdefaults()\n",
        "fig, ax = plt.subplots()\n",
        "\n",
        "ngram = top_15.keys()\n",
        "y_pos = np.arange(len(ngram))\n",
        "performance = top_15.values()\n",
        "\n",
        "\n",
        "ax.barh(y_pos, performance, align='center')\n",
        "ax.set_yticks(y_pos)\n",
        "ax.set_yticklabels(ngram)\n",
        "ax.invert_yaxis()\n",
        "ax.set_xlabel('Counts')\n",
        "ax.set_title('Top-15 Most Common Unigrams in Positive Comments')\n",
        "\n",
        "plt.show()"
      ],
      "execution_count": null,
      "outputs": [
        {
          "output_type": "display_data",
          "data": {
            "text/plain": [
              "<Figure size 640x480 with 1 Axes>"
            ],
            "image/png": "[encoded data removed]"
          },
          "metadata": {}
        }
      ]
    },
    {
      "metadata": {
        "id": "_asiyQGCCP4n"
      },
      "cell_type": "markdown",
      "source": [
        "### **NEGATİF SINIF UNIGRAMLARI**"
      ]
    },
    {
      "metadata": {
        "trusted": true,
        "id": "q-h7gKI-CP4n"
      },
      "cell_type": "code",
      "source": [
        "#negatif duygu için\n",
        "df_neg=df_train[df_train[\"Label\"]==0]\n",
        "\n",
        "#sadece unigramlar\n",
        "token_list=[]\n",
        "\n",
        "for i,r in df_neg.iterrows():\n",
        "    text=''.join(ch for ch in df_neg[\"comment\"][i] if ch not in exclude and ch != \"’\")\n",
        "    tokens=word_tokenize(text)\n",
        "    tokens=[tok.lower() for tok in tokens if tok not in stop_words]\n",
        "    token_list.extend(tokens)\n",
        "\n",
        "frequencies=Counter(token_list)\n",
        "frequencies_sorted=sorted(frequencies.items(), key=lambda k: k[1],reverse=True)\n",
        "top_15=dict(frequencies_sorted[0:15])"
      ],
      "execution_count": null,
      "outputs": []
    },
    {
      "metadata": {
        "trusted": true,
        "id": "h4ouOBFfCP4o",
        "colab": {
          "base_uri": "https://localhost:8080/",
          "height": 472
        },
        "outputId": "9c65d0f6-c1ba-40b8-8d2d-a9ffc43f3252"
      },
      "cell_type": "code",
      "source": [
        "import matplotlib.pyplot as plt\n",
        "import numpy as np\n",
        "\n",
        "plt.rcdefaults()\n",
        "fig, ax = plt.subplots()\n",
        "\n",
        "ngram = top_15.keys()\n",
        "y_pos = np.arange(len(ngram))\n",
        "performance = top_15.values()\n",
        "\n",
        "\n",
        "ax.barh(y_pos, performance, align='center')\n",
        "ax.set_yticks(y_pos)\n",
        "ax.set_yticklabels(ngram)\n",
        "ax.set_xlabel('Counts')\n",
        "ax.set_title('Top-15 Most Common Unigrams in Negative Comments')\n",
        "\n",
        "plt.show()"
      ],
      "execution_count": null,
      "outputs": [
        {
          "output_type": "display_data",
          "data": {
            "text/plain": [
              "<Figure size 640x480 with 1 Axes>"
            ],
            "image/png": "[encoded data removed]"
          },
          "metadata": {}
        }
      ]
    },
    {
      "metadata": {
        "id": "LAYzs2XlCP4o"
      },
      "cell_type": "markdown",
      "source": [
        "### **POZİTİF SINIF UNIGRAMLARI**"
      ]
    },
    {
      "metadata": {
        "trusted": true,
        "id": "66EMuYGOCP4o"
      },
      "cell_type": "code",
      "source": [
        "from nltk.util import ngrams\n",
        "\n",
        "token_list=[]\n",
        "\n",
        "for i,r in df_pos.iterrows():\n",
        "    text=''.join(ch for ch in df_pos[\"comment\"][i] if ch not in exclude and ch != \"’\")\n",
        "    tokens=word_tokenize(text)\n",
        "    tokens=[tok.lower() for tok in tokens if tok not in stop_words]\n",
        "    token_list.extend(tokens)\n",
        "\n",
        "\n",
        "bigrams=list(ngrams(token_list,2))\n",
        "frequencies=Counter(bigrams)\n",
        "frequencies_sorted=sorted(frequencies.items(), key=lambda k: k[1],reverse=True)\n",
        "top_15=dict(frequencies_sorted[0:15])\n"
      ],
      "execution_count": null,
      "outputs": []
    },
    {
      "metadata": {
        "trusted": true,
        "id": "A2KZ5KcxCP4o",
        "colab": {
          "base_uri": "https://localhost:8080/",
          "height": 472
        },
        "outputId": "70d38043-42cc-4174-b99d-913ababbbaad"
      },
      "cell_type": "code",
      "source": [
        "plt.rcdefaults()\n",
        "fig, ax = plt.subplots()\n",
        "\n",
        "ngram = top_15.keys()\n",
        "y_pos = np.arange(len(ngram))\n",
        "performance = top_15.values()\n",
        "\n",
        "\n",
        "ax.barh(y_pos, performance, align='center')\n",
        "ax.set_yticks(y_pos)\n",
        "ax.set_yticklabels(ngram)\n",
        "ax.invert_yaxis()\n",
        "ax.set_xlabel('Counts')\n",
        "ax.set_title('Top-15 Most Common Bigrams in Positive Comments')\n",
        "\n",
        "plt.show()"
      ],
      "execution_count": null,
      "outputs": [
        {
          "output_type": "display_data",
          "data": {
            "text/plain": [
              "<Figure size 640x480 with 1 Axes>"
            ],
            "image/png": "[encoded data removed]"
          },
          "metadata": {}
        }
      ]
    },
    {
      "metadata": {
        "trusted": true,
        "id": "L2hdqrBpCP4o"
      },
      "cell_type": "code",
      "source": [
        "token_list=[]\n",
        "\n",
        "for i,r in df_neg.iterrows():\n",
        "    text=''.join(ch for ch in df_neg[\"comment\"][i] if ch not in exclude and ch != \"’\")\n",
        "    tokens=word_tokenize(text)\n",
        "    tokens=[tok.lower() for tok in tokens if tok not in stop_words]\n",
        "    token_list.extend(tokens)\n",
        "\n",
        "\n",
        "bigrams=list(ngrams(token_list,2))\n",
        "frequencies=Counter(bigrams)\n",
        "frequencies_sorted=sorted(frequencies.items(), key=lambda k: k[1],reverse=True)\n",
        "top_15=dict(frequencies_sorted[0:15])"
      ],
      "execution_count": null,
      "outputs": []
    },
    {
      "metadata": {
        "trusted": true,
        "id": "EgRu1btSCP4p",
        "colab": {
          "base_uri": "https://localhost:8080/",
          "height": 472
        },
        "outputId": "48493cc6-0e30-40a4-d2b7-077c731c8bea"
      },
      "cell_type": "code",
      "source": [
        "plt.rcdefaults()\n",
        "fig, ax = plt.subplots()\n",
        "\n",
        "\n",
        "ngram = top_15.keys()\n",
        "y_pos = np.arange(len(ngram))\n",
        "performance = top_15.values()\n",
        "\n",
        "\n",
        "ax.barh(y_pos, performance, align='center')\n",
        "ax.set_yticks(y_pos)\n",
        "ax.set_yticklabels(ngram)\n",
        "ax.invert_yaxis()\n",
        "ax.set_xlabel('Counts')\n",
        "ax.set_title('Top-15 Most Common Bigrams in Negative Comments')\n",
        "\n",
        "plt.show()"
      ],
      "execution_count": null,
      "outputs": [
        {
          "output_type": "display_data",
          "data": {
            "text/plain": [
              "<Figure size 640x480 with 1 Axes>"
            ],
            "image/png": "[encoded data removed]"
          },
          "metadata": {}
        }
      ]
    },
    {
      "metadata": {
        "id": "ovKkHJfSCP4p"
      },
      "cell_type": "markdown",
      "source": []
    },
    {
      "metadata": {
        "id": "hhsVLi6sCP4p"
      },
      "cell_type": "markdown",
      "source": [
        "# 2) BERTURK Model Fine Tuning"
      ]
    },
    {
      "metadata": {
        "trusted": true,
        "id": "vHfqPoaICP4p"
      },
      "cell_type": "code",
      "source": [
        "\n",
        "comments = df_train.comment.values\n",
        "labels = df_train.Label.values"
      ],
      "execution_count": null,
      "outputs": []
    },
    {
      "metadata": {
        "id": "et40QPoDCP4p"
      },
      "cell_type": "markdown",
      "source": [
        "https://stackoverflow.com/questions/54938815/data-preprocessing-for-nlp-pre-training-models-e-g-elmo-bert\n"
      ]
    },
    {
      "metadata": {
        "trusted": true,
        "id": "NbUOOCBHCP4p",
        "colab": {
          "base_uri": "https://localhost:8080/",
          "height": 237,
          "referenced_widgets": [
            "fa1004914fa14cfc935e35a31b5664c3",
            "47aa996cdcdd44f487a0589341ba0408",
            "23207d373c684be4b801596ca1125dab",
            "7f6416fd7a944401a8356693b5402560",
            "8601d42159644dcbbb92b9f67818e947",
            "30cdca18cca4402b8e03e32cf38847fc",
            "f2c86f931b8b4eccb61202946f7da87d",
            "6b4f676eac0747408827dc22991c9b2b",
            "312a74fd58304dab9230219a9b8623e3",
            "60bd0837b07e4f29a3002809a352735a",
            "87a3aabfd4544bdfa9cb3d38629416e9",
            "f80748f5987c4c3689a5140bef474d25",
            "33b5d75e3d4a4859b80231e991b549e6",
            "87fde5c2e81b4b75bb5751dacaf83b3f",
            "ebf1d2817b394b3bb035d1b827552f2b",
            "d9cbb677b3334bdbb5cc861e0e234d6e",
            "a7b9ecd1a8f843dfa97c74bcddb1c956",
            "ef3ff326f51e44a6bec9840c02063557",
            "77c724c5925745398b91b10a9c8c5d43",
            "35df690051534396b3e4a9cf11fae966",
            "f9792dfd9d4f496fbad4f9c8b7945763",
            "cd8aa2829e8d4afebad008978bbcc1e9",
            "836315f8b47b4c2eafe0b259c10772f3",
            "25c8e6fa93ec49a2813976db59f1fe34",
            "96ef2e5f90774e59a42c9e594135ff1e",
            "8eab18474e0c47db864c02f108162e89",
            "e88be4a0398f4021933afd01e572282d",
            "49cc21df89cf4588b944c328164a7dfe",
            "1ef7ad8b990f4862bf37063a544d9a95",
            "31ea742322eb42a1ba71dfaacb2f5f0b",
            "f22dbeaae9be46c793f056e0d0499665",
            "2579349eefa54c668e73924f74336b6f",
            "673b918d260f4f50a8ba85fb9ba97cd5"
          ]
        },
        "outputId": "bb0915e4-cc6d-40b1-990b-39c308e3e90b"
      },
      "cell_type": "code",
      "source": [
        "from transformers import AutoTokenizer\n",
        "#Load BERT Turkish tokenizer\n",
        "tokenizer = AutoTokenizer.from_pretrained(\"dbmdz/bert-base-turkish-cased\",do_lower_case=True)"
      ],
      "execution_count": null,
      "outputs": [
        {
          "output_type": "stream",
          "name": "stderr",
          "text": [
            "/usr/local/lib/python3.10/dist-packages/huggingface_hub/utils/_token.py:89: UserWarning: \n",
            "The secret `HF_TOKEN` does not exist in your Colab secrets.\n",
            "To authenticate with the Hugging Face Hub, create a token in your settings tab (https://huggingface.co/settings/tokens), set it as secret in your Google Colab and restart your session.\n",
            "You will be able to reuse this secret in all of your notebooks.\n",
            "Please note that authentication is recommended but still optional to access public models or datasets.\n",
            "  warnings.warn(\n"
          ]
        },
        {
          "output_type": "display_data",
          "data": {
            "text/plain": [
              "tokenizer_config.json:   0%|          | 0.00/60.0 [00:00<?, ?B/s]"
            ],
            "application/vnd.jupyter.widget-view+json": {
              "version_major": 2,
              "version_minor": 0,
              "model_id": "fa1004914fa14cfc935e35a31b5664c3"
            }
          },
          "metadata": {}
        },
        {
          "output_type": "display_data",
          "data": {
            "text/plain": [
              "config.json:   0%|          | 0.00/385 [00:00<?, ?B/s]"
            ],
            "application/vnd.jupyter.widget-view+json": {
              "version_major": 2,
              "version_minor": 0,
              "model_id": "f80748f5987c4c3689a5140bef474d25"
            }
          },
          "metadata": {}
        },
        {
          "output_type": "display_data",
          "data": {
            "text/plain": [
              "vocab.txt:   0%|          | 0.00/251k [00:00<?, ?B/s]"
            ],
            "application/vnd.jupyter.widget-view+json": {
              "version_major": 2,
              "version_minor": 0,
              "model_id": "836315f8b47b4c2eafe0b259c10772f3"
            }
          },
          "metadata": {}
        }
      ]
    },
    {
      "metadata": {
        "trusted": true,
        "id": "NOBgruSdCP4q"
      },
      "cell_type": "code",
      "source": [
        "\n",
        "import matplotlib.pyplot as plt\n",
        "def plot_sentence_embeddings_length(text_list, tokenizer):\n",
        "    tokenized_texts = list(map(lambda t: tokenizer.tokenize(t), text_list))\n",
        "    tokenized_texts_len = list(map(lambda t: len(t), tokenized_texts))\n",
        "    fig, ax = plt.subplots(figsize=(8, 5));\n",
        "    ax.hist(tokenized_texts_len, bins=40);\n",
        "    ax.set_xlabel(\"Length of Comment Embeddings\");\n",
        "    ax.set_ylabel(\"Number of Comments\");\n",
        "    return"
      ],
      "execution_count": null,
      "outputs": []
    },
    {
      "metadata": {
        "trusted": true,
        "id": "SDdMaCd_CP4q",
        "colab": {
          "base_uri": "https://localhost:8080/",
          "height": 465
        },
        "outputId": "c80af9e1-9b88-4237-a089-20a80fe97cc1"
      },
      "cell_type": "code",
      "source": [
        "plot_sentence_embeddings_length(comments,tokenizer)"
      ],
      "execution_count": null,
      "outputs": [
        {
          "output_type": "display_data",
          "data": {
            "text/plain": [
              "<Figure size 800x500 with 1 Axes>"
            ],
            "image/png": "[encoded data removed]"
          },
          "metadata": {}
        }
      ]
    },
    {
      "metadata": {
        "trusted": true,
        "id": "y8oCvm0GCP4q",
        "colab": {
          "base_uri": "https://localhost:8080/"
        },
        "outputId": "3ab3894e-178e-49d4-f8d3-4ea7eb191f69"
      },
      "cell_type": "code",
      "source": [
        "\n",
        "comments = list(comments)\n",
        "\n",
        "indices = tokenizer.batch_encode_plus(\n",
        "    comments,\n",
        "    max_length=128,\n",
        "    add_special_tokens=True,\n",
        "    return_attention_mask=True,\n",
        "    padding='max_length',\n",
        "    truncation=True\n",
        ")\n",
        "\n",
        "input_ids = indices[\"input_ids\"]\n",
        "attention_masks = indices[\"attention_mask\"]\n",
        "\n",
        "print(input_ids[0])\n",
        "print(comments[0])\n"
      ],
      "execution_count": null,
      "outputs": [
        {
          "output_type": "stream",
          "name": "stdout",
          "text": [
            "[2, 2834, 2995, 2048, 11936, 2816, 6289, 26704, 7735, 2018, 16491, 4898, 8295, 1009, 12262, 1023, 3525, 18, 18, 2956, 2248, 2067, 4225, 12232, 6152, 3157, 12475, 11921, 2024, 5535, 6147, 1024, 16, 3176, 2473, 2577, 6147, 1024, 16, 5851, 2031, 6147, 1024, 11835, 2881, 2262, 27356, 4432, 6356, 2162, 2628, 22187, 1981, 13448, 10514, 3520, 4345, 83, 2045, 1008, 14668, 1028, 2960, 18, 14921, 7126, 30, 2048, 2142, 2010, 35, 22669, 18, 18, 18, 3, 0, 0, 0, 0, 0, 0, 0, 0, 0, 0, 0, 0, 0, 0, 0, 0, 0, 0, 0, 0, 0, 0, 0, 0, 0, 0, 0, 0, 0, 0, 0, 0, 0, 0, 0, 0, 0, 0, 0, 0, 0, 0, 0, 0, 0, 0, 0, 0, 0, 0, 0, 0]\n",
            "biri bana bu filmde benim anlamadigim bisey oldugunu söylesin lütfen.. uzun zamandir bilim kurgu vb tür filmleri izliyorum basit olanlari,mantiksiz olanlari,hatali olanlari gördüm ama böylesine rastlamadim saçma filmler kategorisinde kesin bi ödül alir film.kisaca:bu ne ya? diyorsunuz.. . \n",
            "\n"
          ]
        }
      ]
    },
    {
      "metadata": {
        "trusted": true,
        "id": "mgUnlSa-CP4q"
      },
      "cell_type": "code",
      "source": [
        "from sklearn.model_selection import train_test_split\n",
        "\n",
        "\n",
        "train_inputs, validation_inputs, train_labels, validation_labels = train_test_split(input_ids, labels,\n",
        "                                                            random_state=42, test_size=0.2)\n",
        "\n",
        "train_masks, validation_masks, _, _ = train_test_split(attention_masks, labels,\n",
        "                                             random_state=42, test_size=0.2)"
      ],
      "execution_count": null,
      "outputs": []
    },
    {
      "metadata": {
        "trusted": true,
        "id": "Zv5TZ8AeCP4r"
      },
      "cell_type": "code",
      "source": [
        "\n",
        "train_inputs = torch.tensor(train_inputs)\n",
        "validation_inputs = torch.tensor(validation_inputs)\n",
        "train_labels = torch.tensor(train_labels, dtype=torch.long)\n",
        "validation_labels = torch.tensor(validation_labels, dtype=torch.long)\n",
        "train_masks = torch.tensor(train_masks, dtype=torch.long)\n",
        "validation_masks = torch.tensor(validation_masks, dtype=torch.long)"
      ],
      "execution_count": null,
      "outputs": []
    },
    {
      "metadata": {
        "trusted": true,
        "id": "QG27lvmkCP4r"
      },
      "cell_type": "code",
      "source": [
        "from torch.utils.data import TensorDataset, DataLoader, RandomSampler, SequentialSampler\n",
        "\n",
        "batch_size = 32\n",
        "\n",
        "train_data = TensorDataset(train_inputs, train_masks, train_labels)\n",
        "train_sampler = RandomSampler(train_data)\n",
        "train_dataloader = DataLoader(train_data, sampler=train_sampler, batch_size=batch_size)\n",
        "\n",
        "validation_data = TensorDataset(validation_inputs, validation_masks, validation_labels)\n",
        "validation_sampler = SequentialSampler(validation_data)\n",
        "validation_dataloader = DataLoader(validation_data, sampler=validation_sampler, batch_size=batch_size)"
      ],
      "execution_count": null,
      "outputs": []
    },
    {
      "metadata": {
        "trusted": true,
        "id": "Or9zlfJ3CP4v",
        "colab": {
          "base_uri": "https://localhost:8080/",
          "height": 884,
          "referenced_widgets": [
            "6badec1257414c8d8c1022a99e4ded54",
            "a9b8a6d95adf4a6b8ef1972a337ffe2d",
            "f2f54478cb5c418c96aa1eb01a81297e",
            "feea21b667c9466a8966287716d2addf",
            "8435890e59454e9499a50e6e900fe7de",
            "05e299d6e096454e8f9d757dfb51cde0",
            "9e1afa6459ee409399ca719958d13dc4",
            "da3549c819f5493b9e8513666af2eb23",
            "1a971d0dc03546948b49d62c36b0d32f",
            "9f1bd30523224d2a9743ddee7f42d955",
            "74b8582d9eb949b3b341b9d4d4dcf5d9"
          ]
        },
        "outputId": "6dfa6ac6-af7b-4f96-c9ac-f32d1cf2efd2"
      },
      "cell_type": "code",
      "source": [
        "from transformers import AutoModelForSequenceClassification, AdamW, AutoConfig\n",
        "config = AutoConfig.from_pretrained(\n",
        "        \"dbmdz/bert-base-turkish-cased\",num_labels=2)\n",
        "\n",
        "model = AutoModelForSequenceClassification.from_pretrained(\n",
        "    \"dbmdz/bert-base-turkish-cased\",config=config)\n",
        "\n",
        "model.cuda()"
      ],
      "execution_count": null,
      "outputs": [
        {
          "output_type": "display_data",
          "data": {
            "text/plain": [
              "pytorch_model.bin:   0%|          | 0.00/445M [00:00<?, ?B/s]"
            ],
            "application/vnd.jupyter.widget-view+json": {
              "version_major": 2,
              "version_minor": 0,
              "model_id": "6badec1257414c8d8c1022a99e4ded54"
            }
          },
          "metadata": {}
        },
        {
          "output_type": "stream",
          "name": "stderr",
          "text": [
            "Some weights of BertForSequenceClassification were not initialized from the model checkpoint at dbmdz/bert-base-turkish-cased and are newly initialized: ['classifier.bias', 'classifier.weight']\n",
            "You should probably TRAIN this model on a down-stream task to be able to use it for predictions and inference.\n"
          ]
        },
        {
          "output_type": "execute_result",
          "data": {
            "text/plain": [
              "BertForSequenceClassification(\n",
              "  (bert): BertModel(\n",
              "    (embeddings): BertEmbeddings(\n",
              "      (word_embeddings): Embedding(32000, 768, padding_idx=0)\n",
              "      (position_embeddings): Embedding(512, 768)\n",
              "      (token_type_embeddings): Embedding(2, 768)\n",
              "      (LayerNorm): LayerNorm((768,), eps=1e-12, elementwise_affine=True)\n",
              "      (dropout): Dropout(p=0.1, inplace=False)\n",
              "    )\n",
              "    (encoder): BertEncoder(\n",
              "      (layer): ModuleList(\n",
              "        (0-11): 12 x BertLayer(\n",
              "          (attention): BertAttention(\n",
              "            (self): BertSdpaSelfAttention(\n",
              "              (query): Linear(in_features=768, out_features=768, bias=True)\n",
              "              (key): Linear(in_features=768, out_features=768, bias=True)\n",
              "              (value): Linear(in_features=768, out_features=768, bias=True)\n",
              "              (dropout): Dropout(p=0.1, inplace=False)\n",
              "            )\n",
              "            (output): BertSelfOutput(\n",
              "              (dense): Linear(in_features=768, out_features=768, bias=True)\n",
              "              (LayerNorm): LayerNorm((768,), eps=1e-12, elementwise_affine=True)\n",
              "              (dropout): Dropout(p=0.1, inplace=False)\n",
              "            )\n",
              "          )\n",
              "          (intermediate): BertIntermediate(\n",
              "            (dense): Linear(in_features=768, out_features=3072, bias=True)\n",
              "            (intermediate_act_fn): GELUActivation()\n",
              "          )\n",
              "          (output): BertOutput(\n",
              "            (dense): Linear(in_features=3072, out_features=768, bias=True)\n",
              "            (LayerNorm): LayerNorm((768,), eps=1e-12, elementwise_affine=True)\n",
              "            (dropout): Dropout(p=0.1, inplace=False)\n",
              "          )\n",
              "        )\n",
              "      )\n",
              "    )\n",
              "    (pooler): BertPooler(\n",
              "      (dense): Linear(in_features=768, out_features=768, bias=True)\n",
              "      (activation): Tanh()\n",
              "    )\n",
              "  )\n",
              "  (dropout): Dropout(p=0.1, inplace=False)\n",
              "  (classifier): Linear(in_features=768, out_features=2, bias=True)\n",
              ")"
            ]
          },
          "metadata": {},
          "execution_count": 24
        }
      ]
    },
    {
      "metadata": {
        "trusted": true,
        "id": "yiXrl6gVCP4v",
        "colab": {
          "base_uri": "https://localhost:8080/"
        },
        "outputId": "1828e669-bd64-40ca-c2cd-a1a38cc303ef"
      },
      "cell_type": "code",
      "source": [
        "\n",
        "optimizer = AdamW(model.parameters(),\n",
        "                  lr = 2e-5,\n",
        "                  betas=[0.9,0.999],\n",
        "                  eps = 1e-6\n",
        "                )\n",
        "from transformers import get_linear_schedule_with_warmup\n",
        "\n",
        "epochs = 20\n",
        "\n",
        "total_steps = len(train_dataloader) * epochs\n",
        "\n",
        "scheduler = get_linear_schedule_with_warmup(optimizer,\n",
        "                                            num_warmup_steps = 0,\n",
        "                                            num_training_steps = total_steps)"
      ],
      "execution_count": null,
      "outputs": [
        {
          "output_type": "stream",
          "name": "stderr",
          "text": [
            "/usr/local/lib/python3.10/dist-packages/transformers/optimization.py:591: FutureWarning: This implementation of AdamW is deprecated and will be removed in a future version. Use the PyTorch implementation torch.optim.AdamW instead, or set `no_deprecation_warning=True` to disable this warning\n",
            "  warnings.warn(\n"
          ]
        }
      ]
    },
    {
      "metadata": {
        "trusted": true,
        "id": "Q_aXS7inCP4v"
      },
      "cell_type": "code",
      "source": [
        "import numpy as np\n",
        "\n",
        "\n",
        "def flat_accuracy(preds, labels):\n",
        "    pred_flat = np.argmax(preds, axis=1).flatten()\n",
        "    labels_flat = labels.flatten()\n",
        "    return np.sum(pred_flat == labels_flat) / len(labels_flat)"
      ],
      "execution_count": null,
      "outputs": []
    },
    {
      "metadata": {
        "trusted": true,
        "id": "bkBaGm_qCP4v"
      },
      "cell_type": "code",
      "source": [
        "import time\n",
        "import datetime\n",
        "\n",
        "def format_time(elapsed):\n",
        "    elapsed_rounded = int(round((elapsed)))\n",
        "    return str(datetime.timedelta(seconds=elapsed_rounded))"
      ],
      "execution_count": null,
      "outputs": []
    },
    {
      "metadata": {
        "trusted": true,
        "id": "Sj4ncdf3CP4w",
        "colab": {
          "base_uri": "https://localhost:8080/"
        },
        "outputId": "e300a59e-7cd7-4101-84f3-302e12a85dfa"
      },
      "cell_type": "code",
      "source": [
        "import random\n",
        "# https://github.com/huggingface/transformers/blob/5bfcd0485ece086ebcbed2d008813037968a9e58/examples/run_glue.py#L128\n",
        "\n",
        "seed_val = 42\n",
        "\n",
        "random.seed(seed_val)\n",
        "np.random.seed(seed_val)\n",
        "torch.manual_seed(seed_val)\n",
        "torch.cuda.manual_seed_all(seed_val)\n",
        "\n",
        "loss_values = []\n",
        "for epoch_i in range(0, epochs):\n",
        "\n",
        "    # ========================================\n",
        "    #               Training\n",
        "    # ========================================\n",
        "\n",
        "    print(\"\")\n",
        "    print('======== Epoch {:} / {:} ========'.format(epoch_i + 1, epochs))\n",
        "    print('Training...')\n",
        "\n",
        "    t0 = time.time()\n",
        "\n",
        "    total_loss = 0\n",
        "\n",
        "    # test (source: https://stackoverflow.com/questions/51433378/what-does-model-train-do-in-pytorch)\n",
        "    model.train()\n",
        "\n",
        "    for step, batch in enumerate(train_dataloader):\n",
        "        if step % 30 == 0 and not step == 0:\n",
        "            elapsed = format_time(time.time() - t0)\n",
        "\n",
        "            print('  Batch {:>5,}  of  {:>5,}.    Elapsed: {:}.'.format(step, len(train_dataloader), elapsed))\n",
        "\n",
        "\n",
        "        b_input_ids = batch[0].to(device)\n",
        "        b_input_mask = batch[1].to(device)\n",
        "        b_labels = batch[2].to(device)\n",
        "\n",
        "        # (source: https://stackoverflow.com/questions/48001598/why-do-we-need-to-call-zero-grad-in-pytorch)\n",
        "        model.zero_grad()\n",
        "\n",
        "        # https://huggingface.co/transformers/v2.2.0/model_doc/bert.html#transformers.BertForSequenceClassification\n",
        "        outputs = model(b_input_ids,\n",
        "                    token_type_ids=None,\n",
        "                    attention_mask=b_input_mask,\n",
        "                    labels=b_labels)\n",
        "\n",
        "        loss = outputs[0]\n",
        "\n",
        "        total_loss += loss.item()\n",
        "        loss.backward()\n",
        "        torch.nn.utils.clip_grad_norm_(model.parameters(), 1.0)\n",
        "\n",
        "        optimizer.step()\n",
        "\n",
        "        scheduler.step()\n",
        "    avg_train_loss = total_loss / len(train_dataloader)\n",
        "    loss_values.append(avg_train_loss)\n",
        "\n",
        "    print(\"\")\n",
        "    print(\"  Average training loss: {0:.2f}\".format(avg_train_loss))\n",
        "    print(\"  Training epoch took: {:}\".format(format_time(time.time() - t0)))\n",
        "\n",
        "    # ========================================\n",
        "    #               Validation\n",
        "    # ========================================\n",
        "\n",
        "    print(\"\")\n",
        "    print(\"Running Validation...\")\n",
        "\n",
        "    t0 = time.time()\n",
        "\n",
        "    model.eval()\n",
        "\n",
        "    eval_loss, eval_accuracy = 0, 0\n",
        "    nb_eval_steps, nb_eval_examples = 0, 0\n",
        "\n",
        "    for batch in validation_dataloader:\n",
        "\n",
        "        batch = tuple(t.to(device) for t in batch)\n",
        "\n",
        "        b_input_ids, b_input_mask, b_labels = batch\n",
        "\n",
        "        with torch.no_grad():\n",
        "\n",
        "            outputs = model(b_input_ids,\n",
        "                            token_type_ids=None,\n",
        "                            attention_mask=b_input_mask)\n",
        "\n",
        "        logits = outputs[0]\n",
        "        logits = logits.detach().cpu().numpy()\n",
        "        label_ids = b_labels.to('cpu').numpy()\n",
        "        tmp_eval_accuracy = flat_accuracy(logits, label_ids)\n",
        "\n",
        "        eval_accuracy += tmp_eval_accuracy\n",
        "\n",
        "        nb_eval_steps += 1\n",
        "\n",
        "    print(\"  Accuracy: {0:.2f}\".format(eval_accuracy/nb_eval_steps))\n",
        "    print(\"  Validation took: {:}\".format(format_time(time.time() - t0)))\n",
        "\n",
        "print(\"\")\n",
        "print(\"Training complete!\")"
      ],
      "execution_count": null,
      "outputs": [
        {
          "output_type": "stream",
          "name": "stdout",
          "text": [
            "\n",
            "======== Epoch 1 / 20 ========\n",
            "Training...\n",
            "  Batch    30  of    200.    Elapsed: 0:00:18.\n",
            "  Batch    60  of    200.    Elapsed: 0:00:35.\n",
            "  Batch    90  of    200.    Elapsed: 0:00:52.\n",
            "  Batch   120  of    200.    Elapsed: 0:01:10.\n",
            "  Batch   150  of    200.    Elapsed: 0:01:27.\n",
            "  Batch   180  of    200.    Elapsed: 0:01:45.\n",
            "\n",
            "  Average training loss: 0.37\n",
            "  Training epoch took: 0:01:57\n",
            "\n",
            "Running Validation...\n",
            "  Accuracy: 0.92\n",
            "  Validation took: 0:00:10\n",
            "\n",
            "======== Epoch 2 / 20 ========\n",
            "Training...\n",
            "  Batch    30  of    200.    Elapsed: 0:00:18.\n",
            "  Batch    60  of    200.    Elapsed: 0:00:36.\n",
            "  Batch    90  of    200.    Elapsed: 0:00:54.\n",
            "  Batch   120  of    200.    Elapsed: 0:01:12.\n",
            "  Batch   150  of    200.    Elapsed: 0:01:30.\n",
            "  Batch   180  of    200.    Elapsed: 0:01:48.\n",
            "\n",
            "  Average training loss: 0.18\n",
            "  Training epoch took: 0:02:00\n",
            "\n",
            "Running Validation...\n",
            "  Accuracy: 0.93\n",
            "  Validation took: 0:00:10\n",
            "\n",
            "======== Epoch 3 / 20 ========\n",
            "Training...\n",
            "  Batch    30  of    200.    Elapsed: 0:00:18.\n",
            "  Batch    60  of    200.    Elapsed: 0:00:36.\n",
            "  Batch    90  of    200.    Elapsed: 0:00:54.\n",
            "  Batch   120  of    200.    Elapsed: 0:01:12.\n",
            "  Batch   150  of    200.    Elapsed: 0:01:30.\n",
            "  Batch   180  of    200.    Elapsed: 0:01:48.\n",
            "\n",
            "  Average training loss: 0.11\n",
            "  Training epoch took: 0:02:00\n",
            "\n",
            "Running Validation...\n",
            "  Accuracy: 0.93\n",
            "  Validation took: 0:00:10\n",
            "\n",
            "======== Epoch 4 / 20 ========\n",
            "Training...\n",
            "  Batch    30  of    200.    Elapsed: 0:00:18.\n",
            "  Batch    60  of    200.    Elapsed: 0:00:36.\n",
            "  Batch    90  of    200.    Elapsed: 0:00:54.\n",
            "  Batch   120  of    200.    Elapsed: 0:01:12.\n",
            "  Batch   150  of    200.    Elapsed: 0:01:30.\n",
            "  Batch   180  of    200.    Elapsed: 0:01:48.\n",
            "\n",
            "  Average training loss: 0.07\n",
            "  Training epoch took: 0:02:00\n",
            "\n",
            "Running Validation...\n",
            "  Accuracy: 0.93\n",
            "  Validation took: 0:00:10\n",
            "\n",
            "======== Epoch 5 / 20 ========\n",
            "Training...\n",
            "  Batch    30  of    200.    Elapsed: 0:00:18.\n",
            "  Batch    60  of    200.    Elapsed: 0:00:36.\n",
            "  Batch    90  of    200.    Elapsed: 0:00:54.\n",
            "  Batch   120  of    200.    Elapsed: 0:01:12.\n",
            "  Batch   150  of    200.    Elapsed: 0:01:30.\n",
            "  Batch   180  of    200.    Elapsed: 0:01:48.\n",
            "\n",
            "  Average training loss: 0.05\n",
            "  Training epoch took: 0:02:00\n",
            "\n",
            "Running Validation...\n",
            "  Accuracy: 0.93\n",
            "  Validation took: 0:00:10\n",
            "\n",
            "======== Epoch 6 / 20 ========\n",
            "Training...\n",
            "  Batch    30  of    200.    Elapsed: 0:00:18.\n",
            "  Batch    60  of    200.    Elapsed: 0:00:36.\n",
            "  Batch    90  of    200.    Elapsed: 0:00:54.\n",
            "  Batch   120  of    200.    Elapsed: 0:01:12.\n",
            "  Batch   150  of    200.    Elapsed: 0:01:30.\n",
            "  Batch   180  of    200.    Elapsed: 0:01:48.\n",
            "\n",
            "  Average training loss: 0.04\n",
            "  Training epoch took: 0:02:00\n",
            "\n",
            "Running Validation...\n",
            "  Accuracy: 0.92\n",
            "  Validation took: 0:00:10\n",
            "\n",
            "======== Epoch 7 / 20 ========\n",
            "Training...\n",
            "  Batch    30  of    200.    Elapsed: 0:00:18.\n",
            "  Batch    60  of    200.    Elapsed: 0:00:36.\n",
            "  Batch    90  of    200.    Elapsed: 0:00:54.\n",
            "  Batch   120  of    200.    Elapsed: 0:01:12.\n",
            "  Batch   150  of    200.    Elapsed: 0:01:30.\n",
            "  Batch   180  of    200.    Elapsed: 0:01:48.\n",
            "\n",
            "  Average training loss: 0.03\n",
            "  Training epoch took: 0:02:00\n",
            "\n",
            "Running Validation...\n",
            "  Accuracy: 0.92\n",
            "  Validation took: 0:00:10\n",
            "\n",
            "======== Epoch 8 / 20 ========\n",
            "Training...\n",
            "  Batch    30  of    200.    Elapsed: 0:00:18.\n",
            "  Batch    60  of    200.    Elapsed: 0:00:36.\n",
            "  Batch    90  of    200.    Elapsed: 0:00:54.\n",
            "  Batch   120  of    200.    Elapsed: 0:01:12.\n",
            "  Batch   150  of    200.    Elapsed: 0:01:30.\n",
            "  Batch   180  of    200.    Elapsed: 0:01:48.\n",
            "\n",
            "  Average training loss: 0.02\n",
            "  Training epoch took: 0:02:00\n",
            "\n",
            "Running Validation...\n",
            "  Accuracy: 0.93\n",
            "  Validation took: 0:00:10\n",
            "\n",
            "======== Epoch 9 / 20 ========\n",
            "Training...\n",
            "  Batch    30  of    200.    Elapsed: 0:00:18.\n",
            "  Batch    60  of    200.    Elapsed: 0:00:36.\n",
            "  Batch    90  of    200.    Elapsed: 0:00:54.\n",
            "  Batch   120  of    200.    Elapsed: 0:01:12.\n",
            "  Batch   150  of    200.    Elapsed: 0:01:30.\n",
            "  Batch   180  of    200.    Elapsed: 0:01:48.\n",
            "\n",
            "  Average training loss: 0.02\n",
            "  Training epoch took: 0:02:00\n",
            "\n",
            "Running Validation...\n",
            "  Accuracy: 0.93\n",
            "  Validation took: 0:00:10\n",
            "\n",
            "======== Epoch 10 / 20 ========\n",
            "Training...\n",
            "  Batch    30  of    200.    Elapsed: 0:00:18.\n",
            "  Batch    60  of    200.    Elapsed: 0:00:36.\n",
            "  Batch    90  of    200.    Elapsed: 0:00:54.\n",
            "  Batch   120  of    200.    Elapsed: 0:01:12.\n",
            "  Batch   150  of    200.    Elapsed: 0:01:30.\n",
            "  Batch   180  of    200.    Elapsed: 0:01:48.\n",
            "\n",
            "  Average training loss: 0.01\n",
            "  Training epoch took: 0:02:00\n",
            "\n",
            "Running Validation...\n",
            "  Accuracy: 0.92\n",
            "  Validation took: 0:00:10\n",
            "\n",
            "======== Epoch 11 / 20 ========\n",
            "Training...\n",
            "  Batch    30  of    200.    Elapsed: 0:00:18.\n",
            "  Batch    60  of    200.    Elapsed: 0:00:36.\n",
            "  Batch    90  of    200.    Elapsed: 0:00:54.\n",
            "  Batch   120  of    200.    Elapsed: 0:01:12.\n",
            "  Batch   150  of    200.    Elapsed: 0:01:30.\n",
            "  Batch   180  of    200.    Elapsed: 0:01:48.\n",
            "\n",
            "  Average training loss: 0.01\n",
            "  Training epoch took: 0:02:00\n",
            "\n",
            "Running Validation...\n",
            "  Accuracy: 0.93\n",
            "  Validation took: 0:00:10\n",
            "\n",
            "======== Epoch 12 / 20 ========\n",
            "Training...\n",
            "  Batch    30  of    200.    Elapsed: 0:00:18.\n",
            "  Batch    60  of    200.    Elapsed: 0:00:36.\n",
            "  Batch    90  of    200.    Elapsed: 0:00:54.\n",
            "  Batch   120  of    200.    Elapsed: 0:01:12.\n",
            "  Batch   150  of    200.    Elapsed: 0:01:30.\n",
            "  Batch   180  of    200.    Elapsed: 0:01:48.\n",
            "\n",
            "  Average training loss: 0.00\n",
            "  Training epoch took: 0:02:00\n",
            "\n",
            "Running Validation...\n",
            "  Accuracy: 0.93\n",
            "  Validation took: 0:00:10\n",
            "\n",
            "======== Epoch 13 / 20 ========\n",
            "Training...\n",
            "  Batch    30  of    200.    Elapsed: 0:00:18.\n",
            "  Batch    60  of    200.    Elapsed: 0:00:36.\n",
            "  Batch    90  of    200.    Elapsed: 0:00:54.\n",
            "  Batch   120  of    200.    Elapsed: 0:01:12.\n",
            "  Batch   150  of    200.    Elapsed: 0:01:30.\n",
            "  Batch   180  of    200.    Elapsed: 0:01:48.\n",
            "\n",
            "  Average training loss: 0.00\n",
            "  Training epoch took: 0:02:00\n",
            "\n",
            "Running Validation...\n",
            "  Accuracy: 0.93\n",
            "  Validation took: 0:00:10\n",
            "\n",
            "======== Epoch 14 / 20 ========\n",
            "Training...\n",
            "  Batch    30  of    200.    Elapsed: 0:00:18.\n",
            "  Batch    60  of    200.    Elapsed: 0:00:36.\n",
            "  Batch    90  of    200.    Elapsed: 0:00:54.\n",
            "  Batch   120  of    200.    Elapsed: 0:01:12.\n",
            "  Batch   150  of    200.    Elapsed: 0:01:30.\n",
            "  Batch   180  of    200.    Elapsed: 0:01:48.\n",
            "\n",
            "  Average training loss: 0.00\n",
            "  Training epoch took: 0:02:00\n",
            "\n",
            "Running Validation...\n",
            "  Accuracy: 0.93\n",
            "  Validation took: 0:00:10\n",
            "\n",
            "======== Epoch 15 / 20 ========\n",
            "Training...\n",
            "  Batch    30  of    200.    Elapsed: 0:00:18.\n",
            "  Batch    60  of    200.    Elapsed: 0:00:36.\n",
            "  Batch    90  of    200.    Elapsed: 0:00:54.\n",
            "  Batch   120  of    200.    Elapsed: 0:01:12.\n",
            "  Batch   150  of    200.    Elapsed: 0:01:30.\n",
            "  Batch   180  of    200.    Elapsed: 0:01:48.\n",
            "\n",
            "  Average training loss: 0.00\n",
            "  Training epoch took: 0:02:00\n",
            "\n",
            "Running Validation...\n",
            "  Accuracy: 0.93\n",
            "  Validation took: 0:00:10\n",
            "\n",
            "======== Epoch 16 / 20 ========\n",
            "Training...\n",
            "  Batch    30  of    200.    Elapsed: 0:00:18.\n",
            "  Batch    60  of    200.    Elapsed: 0:00:36.\n",
            "  Batch    90  of    200.    Elapsed: 0:00:54.\n",
            "  Batch   120  of    200.    Elapsed: 0:01:12.\n",
            "  Batch   150  of    200.    Elapsed: 0:01:30.\n",
            "  Batch   180  of    200.    Elapsed: 0:01:48.\n",
            "\n",
            "  Average training loss: 0.00\n",
            "  Training epoch took: 0:02:00\n",
            "\n",
            "Running Validation...\n",
            "  Accuracy: 0.93\n",
            "  Validation took: 0:00:10\n",
            "\n",
            "======== Epoch 17 / 20 ========\n",
            "Training...\n",
            "  Batch    30  of    200.    Elapsed: 0:00:18.\n",
            "  Batch    60  of    200.    Elapsed: 0:00:36.\n",
            "  Batch    90  of    200.    Elapsed: 0:00:54.\n",
            "  Batch   120  of    200.    Elapsed: 0:01:12.\n",
            "  Batch   150  of    200.    Elapsed: 0:01:30.\n",
            "  Batch   180  of    200.    Elapsed: 0:01:48.\n",
            "\n",
            "  Average training loss: 0.00\n",
            "  Training epoch took: 0:02:00\n",
            "\n",
            "Running Validation...\n",
            "  Accuracy: 0.93\n",
            "  Validation took: 0:00:10\n",
            "\n",
            "======== Epoch 18 / 20 ========\n",
            "Training...\n",
            "  Batch    30  of    200.    Elapsed: 0:00:18.\n",
            "  Batch    60  of    200.    Elapsed: 0:00:36.\n",
            "  Batch    90  of    200.    Elapsed: 0:00:54.\n",
            "  Batch   120  of    200.    Elapsed: 0:01:12.\n",
            "  Batch   150  of    200.    Elapsed: 0:01:30.\n",
            "  Batch   180  of    200.    Elapsed: 0:01:48.\n",
            "\n",
            "  Average training loss: 0.00\n",
            "  Training epoch took: 0:02:00\n",
            "\n",
            "Running Validation...\n",
            "  Accuracy: 0.93\n",
            "  Validation took: 0:00:10\n",
            "\n",
            "======== Epoch 19 / 20 ========\n",
            "Training...\n",
            "  Batch    30  of    200.    Elapsed: 0:00:18.\n",
            "  Batch    60  of    200.    Elapsed: 0:00:36.\n",
            "  Batch    90  of    200.    Elapsed: 0:00:54.\n",
            "  Batch   120  of    200.    Elapsed: 0:01:12.\n",
            "  Batch   150  of    200.    Elapsed: 0:01:30.\n",
            "  Batch   180  of    200.    Elapsed: 0:01:48.\n",
            "\n",
            "  Average training loss: 0.00\n",
            "  Training epoch took: 0:02:00\n",
            "\n",
            "Running Validation...\n",
            "  Accuracy: 0.93\n",
            "  Validation took: 0:00:10\n",
            "\n",
            "======== Epoch 20 / 20 ========\n",
            "Training...\n",
            "  Batch    30  of    200.    Elapsed: 0:00:18.\n",
            "  Batch    60  of    200.    Elapsed: 0:00:36.\n",
            "  Batch    90  of    200.    Elapsed: 0:00:54.\n",
            "  Batch   120  of    200.    Elapsed: 0:01:12.\n",
            "  Batch   150  of    200.    Elapsed: 0:01:30.\n",
            "  Batch   180  of    200.    Elapsed: 0:01:48.\n",
            "\n",
            "  Average training loss: 0.00\n",
            "  Training epoch took: 0:02:00\n",
            "\n",
            "Running Validation...\n",
            "  Accuracy: 0.93\n",
            "  Validation took: 0:00:10\n",
            "\n",
            "Training complete!\n"
          ]
        }
      ]
    },
    {
      "cell_type": "code",
      "source": [
        "from google.colab import drive\n",
        "drive.mount('/content/drive')\n"
      ],
      "metadata": {
        "id": "fJ8DDW6vzVCb",
        "colab": {
          "base_uri": "https://localhost:8080/"
        },
        "outputId": "9f08e27a-fdf5-4f4b-e019-5749bf50bba5"
      },
      "execution_count": null,
      "outputs": [
        {
          "output_type": "stream",
          "name": "stdout",
          "text": [
            "Mounted at /content/drive\n"
          ]
        }
      ]
    },
    {
      "cell_type": "code",
      "source": [
        "import torch\n",
        "import os\n",
        "\n",
        "# Modelin kaydedilmesi\n",
        "output_dir = '/content/drive/MyDrive/model_save/'\n",
        "\n",
        "if not os.path.exists(output_dir):\n",
        "    os.makedirs(output_dir)\n",
        "\n",
        "# Modeli kaydet\n",
        "model_save_path = os.path.join(output_dir, 'bert_model_20.pth')\n",
        "torch.save(model.state_dict(), model_save_path)\n",
        "\n",
        "print(f\"Model kaydedildi: {model_save_path}\")\n"
      ],
      "metadata": {
        "id": "gsH6yLjIzWEg",
        "colab": {
          "base_uri": "https://localhost:8080/"
        },
        "outputId": "02697edd-c9d4-4783-ec7b-81cb4f526df4"
      },
      "execution_count": null,
      "outputs": [
        {
          "output_type": "stream",
          "name": "stdout",
          "text": [
            "Model kaydedildi: /content/drive/MyDrive/model_save/bert_model_20.pth\n"
          ]
        }
      ]
    },
    {
      "metadata": {
        "id": "sfFk0i6LCP4w"
      },
      "cell_type": "markdown",
      "source": [
        "# 3) BERTurk Model Performance on Test Set"
      ]
    },
    {
      "metadata": {
        "trusted": true,
        "id": "JlDtbgqJCP4w",
        "colab": {
          "base_uri": "https://localhost:8080/"
        },
        "outputId": "e55c9ffa-2ec3-4538-b21d-818b5f74ea2b"
      },
      "cell_type": "code",
      "source": [
        "import torch\n",
        "\n",
        "# Veriyi çektiğin dataframe'den 'comment' ve 'Label' sütunlarını al\n",
        "comments1 = df_test['comment'].tolist()  # 'df_test' verisinde bulunan yorumlar\n",
        "labels1 = df_test['Label'].tolist()      # 'df_test' verisinde bulunan etiketler\n",
        "\n",
        "# Tokenizer işlemleri\n",
        "indices1 = tokenizer.batch_encode_plus(\n",
        "    comments1,\n",
        "    max_length=128,\n",
        "    add_special_tokens=True,\n",
        "    return_attention_mask=True,\n",
        "    padding='max_length',\n",
        "    truncation=True\n",
        ")\n",
        "\n",
        "input_ids1 = indices1[\"input_ids\"]\n",
        "attention_masks1 = indices1[\"attention_mask\"]\n",
        "\n",
        "# Convert data to tensors\n",
        "prediction_inputs1 = torch.tensor(input_ids1)\n",
        "prediction_masks1 = torch.tensor(attention_masks1)\n",
        "prediction_labels1 = torch.tensor(labels1)\n",
        "\n",
        "# Set the batch size.\n",
        "batch_size = 32\n",
        "\n",
        "# Create the DataLoader.\n",
        "prediction_data1 = TensorDataset(prediction_inputs1, prediction_masks1, prediction_labels1)\n",
        "prediction_sampler1 = SequentialSampler(prediction_data1)\n",
        "prediction_dataloader1 = DataLoader(prediction_data1, sampler=prediction_sampler1, batch_size=batch_size)\n",
        "\n",
        "print(input_ids1[0])\n",
        "print(comments1[0])\n"
      ],
      "execution_count": null,
      "outputs": [
        {
          "output_type": "stream",
          "name": "stdout",
          "text": [
            "[2, 28484, 2960, 6085, 6568, 16257, 2522, 3661, 2839, 14085, 2127, 2395, 2960, 10773, 3926, 6198, 5668, 5002, 18, 18, 3, 0, 0, 0, 0, 0, 0, 0, 0, 0, 0, 0, 0, 0, 0, 0, 0, 0, 0, 0, 0, 0, 0, 0, 0, 0, 0, 0, 0, 0, 0, 0, 0, 0, 0, 0, 0, 0, 0, 0, 0, 0, 0, 0, 0, 0, 0, 0, 0, 0, 0, 0, 0, 0, 0, 0, 0, 0, 0, 0, 0, 0, 0, 0, 0, 0, 0, 0, 0, 0, 0, 0, 0, 0, 0, 0, 0, 0, 0, 0, 0, 0, 0, 0, 0, 0, 0, 0, 0, 0, 0, 0, 0, 0, 0, 0, 0, 0, 0, 0, 0, 0, 0, 0, 0, 0, 0, 0]\n",
            "arkadaslar film bence cok güzel su anda gidilebilecek en iyi film izlemenizi tavsiye ederim.. \n",
            "\n"
          ]
        }
      ]
    },
    {
      "metadata": {
        "trusted": true,
        "id": "rMY1j0J-CP4x",
        "colab": {
          "base_uri": "https://localhost:8080/"
        },
        "outputId": "7d7db68d-79ad-439a-8fe0-e4a9b8e204b8"
      },
      "cell_type": "code",
      "source": [
        "\n",
        "print('Predicting labels for {:,} test sentences...'.format(len(prediction_inputs1)))\n",
        "\n",
        "model.eval()\n",
        "\n",
        "predictions , true_labels = [], []\n",
        "\n",
        "for batch in prediction_dataloader1:\n",
        "\n",
        "  batch = tuple(t.to(device) for t in batch)\n",
        "\n",
        "  b_input_ids1, b_input_mask1, b_labels1 = batch\n",
        "\n",
        "  with torch.no_grad():\n",
        "      outputs1 = model(b_input_ids1, token_type_ids=None,\n",
        "                      attention_mask=b_input_mask1)\n",
        "\n",
        "  logits1 = outputs1[0]\n",
        "\n",
        "  logits1 = logits1.detach().cpu().numpy()\n",
        "  label_ids1 = b_labels1.to('cpu').numpy()\n",
        "\n",
        "  predictions.append(logits1)\n",
        "  true_labels.append(label_ids1)\n",
        "\n",
        "print('    DONE.')"
      ],
      "execution_count": null,
      "outputs": [
        {
          "output_type": "stream",
          "name": "stdout",
          "text": [
            "Predicting labels for 2,666 test sentences...\n",
            "    DONE.\n"
          ]
        }
      ]
    },
    {
      "metadata": {
        "trusted": true,
        "id": "8frR7fDmCP4y"
      },
      "cell_type": "code",
      "source": [
        "\n",
        "flat_predictions = [item for sublist in predictions for item in sublist]\n",
        "flat_predictions = np.argmax(flat_predictions, axis=1).flatten()\n",
        "\n",
        "flat_true_labels = [item for sublist in true_labels for item in sublist]"
      ],
      "execution_count": null,
      "outputs": []
    },
    {
      "metadata": {
        "trusted": true,
        "id": "9j83Va-SCP4y",
        "colab": {
          "base_uri": "https://localhost:8080/"
        },
        "outputId": "2e7b888d-0d87-483a-fd85-6ac42a7daf8d"
      },
      "cell_type": "code",
      "source": [
        "from sklearn.metrics import accuracy_score\n",
        "from sklearn.metrics import classification_report\n",
        "\n",
        "print(\"Accuracy of BERT is:\",accuracy_score(flat_true_labels, flat_predictions))\n",
        "print(classification_report(flat_true_labels, flat_predictions))"
      ],
      "execution_count": null,
      "outputs": [
        {
          "output_type": "stream",
          "name": "stdout",
          "text": [
            "Accuracy of BERT is: 0.931357839459865\n",
            "              precision    recall  f1-score   support\n",
            "\n",
            "           0       0.94      0.92      0.93      1333\n",
            "           1       0.92      0.94      0.93      1333\n",
            "\n",
            "    accuracy                           0.93      2666\n",
            "   macro avg       0.93      0.93      0.93      2666\n",
            "weighted avg       0.93      0.93      0.93      2666\n",
            "\n"
          ]
        }
      ]
    },
    {
      "cell_type": "code",
      "source": [
        "\n",
        "sentence = \"faturaları zamanında ödememe rağmen hattım kapatılmış ve mağdur oluyorum\"\n",
        "\n",
        "inputs = tokenizer.encode_plus(\n",
        "    sentence,\n",
        "    add_special_tokens=True,\n",
        "    max_length=128,\n",
        "    padding='max_length',\n",
        "    truncation=True,\n",
        "    return_tensors='pt'\n",
        ")\n",
        "\n",
        "input_ids = inputs['input_ids'].to(device)\n",
        "attention_mask = inputs['attention_mask'].to(device)\n",
        "\n",
        "# Model prediction\n",
        "with torch.no_grad():\n",
        "    outputs = model(input_ids, attention_mask=attention_mask)\n",
        "\n",
        "logits = outputs[0]\n",
        "\n",
        "probabilities = torch.softmax(logits, dim=1)\n",
        "\n",
        "predicted_label = torch.argmax(probabilities, dim=1).item()\n",
        "\n",
        "print(f\"Predicted Label: {predicted_label}\")\n",
        "\n",
        "label_mapping = {0: \"Negatif\", 1: \"Pozitif\"}\n",
        "print(f\"Sentiment: {label_mapping.get(predicted_label, 'Nötr')}\")\n",
        "\n",
        "device = torch.device(\"cuda\" if torch.cuda.is_available() else \"cpu\")\n",
        "model.to(device)\n"
      ],
      "metadata": {
        "id": "zaVYTKqEI7Op",
        "colab": {
          "base_uri": "https://localhost:8080/"
        },
        "outputId": "a0af0dbb-c139-479d-8c8e-3e9fdd909e66"
      },
      "execution_count": null,
      "outputs": [
        {
          "output_type": "stream",
          "name": "stdout",
          "text": [
            "Predicted Label: 0\n",
            "Sentiment: Negatif\n"
          ]
        },
        {
          "output_type": "execute_result",
          "data": {
            "text/plain": [
              "BertForSequenceClassification(\n",
              "  (bert): BertModel(\n",
              "    (embeddings): BertEmbeddings(\n",
              "      (word_embeddings): Embedding(32000, 768, padding_idx=0)\n",
              "      (position_embeddings): Embedding(512, 768)\n",
              "      (token_type_embeddings): Embedding(2, 768)\n",
              "      (LayerNorm): LayerNorm((768,), eps=1e-12, elementwise_affine=True)\n",
              "      (dropout): Dropout(p=0.1, inplace=False)\n",
              "    )\n",
              "    (encoder): BertEncoder(\n",
              "      (layer): ModuleList(\n",
              "        (0-11): 12 x BertLayer(\n",
              "          (attention): BertAttention(\n",
              "            (self): BertSdpaSelfAttention(\n",
              "              (query): Linear(in_features=768, out_features=768, bias=True)\n",
              "              (key): Linear(in_features=768, out_features=768, bias=True)\n",
              "              (value): Linear(in_features=768, out_features=768, bias=True)\n",
              "              (dropout): Dropout(p=0.1, inplace=False)\n",
              "            )\n",
              "            (output): BertSelfOutput(\n",
              "              (dense): Linear(in_features=768, out_features=768, bias=True)\n",
              "              (LayerNorm): LayerNorm((768,), eps=1e-12, elementwise_affine=True)\n",
              "              (dropout): Dropout(p=0.1, inplace=False)\n",
              "            )\n",
              "          )\n",
              "          (intermediate): BertIntermediate(\n",
              "            (dense): Linear(in_features=768, out_features=3072, bias=True)\n",
              "            (intermediate_act_fn): GELUActivation()\n",
              "          )\n",
              "          (output): BertOutput(\n",
              "            (dense): Linear(in_features=3072, out_features=768, bias=True)\n",
              "            (LayerNorm): LayerNorm((768,), eps=1e-12, elementwise_affine=True)\n",
              "            (dropout): Dropout(p=0.1, inplace=False)\n",
              "          )\n",
              "        )\n",
              "      )\n",
              "    )\n",
              "    (pooler): BertPooler(\n",
              "      (dense): Linear(in_features=768, out_features=768, bias=True)\n",
              "      (activation): Tanh()\n",
              "    )\n",
              "  )\n",
              "  (dropout): Dropout(p=0.1, inplace=False)\n",
              "  (classifier): Linear(in_features=768, out_features=2, bias=True)\n",
              ")"
            ]
          },
          "metadata": {},
          "execution_count": 36
        }
      ]
    },
    {
      "cell_type": "code",
      "source": [
        "\n",
        "output_dir = '/content/drive/MyDrive/model_save2/'\n",
        "\n",
        "if not os.path.exists(output_dir):\n",
        "    os.makedirs(output_dir)\n",
        "\n",
        "# Modeli kaydet\n",
        "print(\"Saving model to %s\" % output_dir)\n",
        "\n",
        "# Modelleri ve konfigürasyon dosyalarını kaydet\n",
        "model_to_save = model.module if hasattr(model, 'module') else model  # Distributed/Parallel training\n",
        "\n",
        "# Modelin ağırlıklarını kaydetmeden önce tüm tensorlerin contiguous olduğundan emin olun\n",
        "for param in model_to_save.parameters():\n",
        "    if not param.is_contiguous():\n",
        "        param.data = param.contiguous()\n",
        "\n",
        "# Modelin ağırlıklarını kaydet\n",
        "model_to_save.save_pretrained(output_dir)\n",
        "\n",
        "# Tokenizer'ı kaydet\n",
        "tokenizer.save_pretrained(output_dir)\n",
        "\n",
        "# Konfigürasyon dosyasını kaydet\n",
        "model_to_save.config.save_pretrained(output_dir)\n",
        "\n",
        "print(\"Model saved successfully!\")"
      ],
      "metadata": {
        "id": "vw2dxE30FrTv",
        "colab": {
          "base_uri": "https://localhost:8080/"
        },
        "outputId": "d74905cb-7b27-4873-ab50-adbc54f69250"
      },
      "execution_count": null,
      "outputs": [
        {
          "output_type": "stream",
          "name": "stdout",
          "text": [
            "Saving model to /content/drive/MyDrive/model_save2/\n",
            "Model saved successfully!\n"
          ]
        }
      ]
    },
    {
      "cell_type": "code",
      "source": [
        "import torch\n",
        "from transformers import BertTokenizer, BertForSequenceClassification\n",
        "\n",
        "# Model ve tokenizer'ı yükleme\n",
        "model_path = '/content/drive/MyDrive/model_save/bert_model_20.pth'  # Burada modelin .pth dosyasının yolunu belirleyin\n",
        "tokenizer = BertTokenizer.from_pretrained(\"dbmdz/bert-base-turkish-cased\")\n",
        "model = BertForSequenceClassification.from_pretrained(\"dbmdz/bert-base-turkish-cased\", num_labels=2)\n",
        "\n",
        "# Modeli .pth dosyasından yükleme\n",
        "model.load_state_dict(torch.load(model_path, map_location=torch.device('cpu')))\n",
        "model.eval()\n",
        "\n",
        "def predict_sentiment(text):\n",
        "    inputs = tokenizer(text, return_tensors=\"pt\", truncation=True, padding=True, max_length=512)\n",
        "    with torch.no_grad():\n",
        "        outputs = model(**inputs)\n",
        "    logits = outputs.logits\n",
        "    predicted_class = torch.argmax(logits, dim=1).item()\n",
        "\n",
        "    # Tahmin edilen sınıfı döndürme\n",
        "    if predicted_class == 0:\n",
        "        return \"Negative\"\n",
        "    else:\n",
        "        return \"Positive\"\n",
        "\n",
        "# Test metni\n",
        "input_text = \"operatör yüzünden faturam her ay olması gerekenden daha fazla \"\n",
        "prediction = predict_sentiment(input_text)\n",
        "print(f\"The sentiment of the input text is: {prediction}\")\n"
      ],
      "metadata": {
        "id": "op0wu7lQnPPc",
        "colab": {
          "base_uri": "https://localhost:8080/"
        },
        "outputId": "d6c9242e-1e2b-49f4-d9c2-c3c9f7992ea9"
      },
      "execution_count": null,
      "outputs": [
        {
          "output_type": "stream",
          "name": "stderr",
          "text": [
            "Some weights of BertForSequenceClassification were not initialized from the model checkpoint at dbmdz/bert-base-turkish-cased and are newly initialized: ['classifier.bias', 'classifier.weight']\n",
            "You should probably TRAIN this model on a down-stream task to be able to use it for predictions and inference.\n"
          ]
        },
        {
          "output_type": "stream",
          "name": "stdout",
          "text": [
            "The sentiment of the input text is: Negative\n"
          ]
        }
      ]
    },
    {
      "cell_type": "code",
      "source": [],
      "metadata": {
        "id": "oRx4P7zXHzTC"
      },
      "execution_count": null,
      "outputs": []
    }
  ],
  "metadata": {
    "kernelspec": {
      "display_name": "Python 3",
      "name": "python3"
    },
    "language_info": {
      "pygments_lexer": "ipython3",
      "nbconvert_exporter": "python",
      "version": "3.6.4",
      "file_extension": ".py",
      "codemirror_mode": {
        "name": "ipython",
        "version": 3
      },
      "name": "python",
      "mimetype": "text/x-python"
    },
    "colab": {
      "provenance": [],
      "gpuType": "T4",
      "machine_shape": "hm"
    },
    "accelerator": "GPU",
    "widgets": {
      "application/vnd.jupyter.widget-state+json": {
        "fa1004914fa14cfc935e35a31b5664c3": {
          "model_module": "@jupyter-widgets/controls",
          "model_name": "HBoxModel",
          "model_module_version": "1.5.0",
          "state": {
            "_dom_classes": [],
            "_model_module": "@jupyter-widgets/controls",
            "_model_module_version": "1.5.0",
            "_model_name": "HBoxModel",
            "_view_count": null,
            "_view_module": "@jupyter-widgets/controls",
            "_view_module_version": "1.5.0",
            "_view_name": "HBoxView",
            "box_style": "",
            "children": [
              "IPY_MODEL_47aa996cdcdd44f487a0589341ba0408",
              "IPY_MODEL_23207d373c684be4b801596ca1125dab",
              "IPY_MODEL_7f6416fd7a944401a8356693b5402560"
            ],
            "layout": "IPY_MODEL_8601d42159644dcbbb92b9f67818e947"
          }
        },
        "47aa996cdcdd44f487a0589341ba0408": {
          "model_module": "@jupyter-widgets/controls",
          "model_name": "HTMLModel",
          "model_module_version": "1.5.0",
          "state": {
            "_dom_classes": [],
            "_model_module": "@jupyter-widgets/controls",
            "_model_module_version": "1.5.0",
            "_model_name": "HTMLModel",
            "_view_count": null,
            "_view_module": "@jupyter-widgets/controls",
            "_view_module_version": "1.5.0",
            "_view_name": "HTMLView",
            "description": "",
            "description_tooltip": null,
            "layout": "IPY_MODEL_30cdca18cca4402b8e03e32cf38847fc",
            "placeholder": "​",
            "style": "IPY_MODEL_f2c86f931b8b4eccb61202946f7da87d",
            "value": "tokenizer_config.json: 100%"
          }
        },
        "23207d373c684be4b801596ca1125dab": {
          "model_module": "@jupyter-widgets/controls",
          "model_name": "FloatProgressModel",
          "model_module_version": "1.5.0",
          "state": {
            "_dom_classes": [],
            "_model_module": "@jupyter-widgets/controls",
            "_model_module_version": "1.5.0",
            "_model_name": "FloatProgressModel",
            "_view_count": null,
            "_view_module": "@jupyter-widgets/controls",
            "_view_module_version": "1.5.0",
            "_view_name": "ProgressView",
            "bar_style": "success",
            "description": "",
            "description_tooltip": null,
            "layout": "IPY_MODEL_6b4f676eac0747408827dc22991c9b2b",
            "max": 60,
            "min": 0,
            "orientation": "horizontal",
            "style": "IPY_MODEL_312a74fd58304dab9230219a9b8623e3",
            "value": 60
          }
        },
        "7f6416fd7a944401a8356693b5402560": {
          "model_module": "@jupyter-widgets/controls",
          "model_name": "HTMLModel",
          "model_module_version": "1.5.0",
          "state": {
            "_dom_classes": [],
            "_model_module": "@jupyter-widgets/controls",
            "_model_module_version": "1.5.0",
            "_model_name": "HTMLModel",
            "_view_count": null,
            "_view_module": "@jupyter-widgets/controls",
            "_view_module_version": "1.5.0",
            "_view_name": "HTMLView",
            "description": "",
            "description_tooltip": null,
            "layout": "IPY_MODEL_60bd0837b07e4f29a3002809a352735a",
            "placeholder": "​",
            "style": "IPY_MODEL_87a3aabfd4544bdfa9cb3d38629416e9",
            "value": " 60.0/60.0 [00:00&lt;00:00, 4.53kB/s]"
          }
        },
        "8601d42159644dcbbb92b9f67818e947": {
          "model_module": "@jupyter-widgets/base",
          "model_name": "LayoutModel",
          "model_module_version": "1.2.0",
          "state": {
            "_model_module": "@jupyter-widgets/base",
            "_model_module_version": "1.2.0",
            "_model_name": "LayoutModel",
            "_view_count": null,
            "_view_module": "@jupyter-widgets/base",
            "_view_module_version": "1.2.0",
            "_view_name": "LayoutView",
            "align_content": null,
            "align_items": null,
            "align_self": null,
            "border": null,
            "bottom": null,
            "display": null,
            "flex": null,
            "flex_flow": null,
            "grid_area": null,
            "grid_auto_columns": null,
            "grid_auto_flow": null,
            "grid_auto_rows": null,
            "grid_column": null,
            "grid_gap": null,
            "grid_row": null,
            "grid_template_areas": null,
            "grid_template_columns": null,
            "grid_template_rows": null,
            "height": null,
            "justify_content": null,
            "justify_items": null,
            "left": null,
            "margin": null,
            "max_height": null,
            "max_width": null,
            "min_height": null,
            "min_width": null,
            "object_fit": null,
            "object_position": null,
            "order": null,
            "overflow": null,
            "overflow_x": null,
            "overflow_y": null,
            "padding": null,
            "right": null,
            "top": null,
            "visibility": null,
            "width": null
          }
        },
        "30cdca18cca4402b8e03e32cf38847fc": {
          "model_module": "@jupyter-widgets/base",
          "model_name": "LayoutModel",
          "model_module_version": "1.2.0",
          "state": {
            "_model_module": "@jupyter-widgets/base",
            "_model_module_version": "1.2.0",
            "_model_name": "LayoutModel",
            "_view_count": null,
            "_view_module": "@jupyter-widgets/base",
            "_view_module_version": "1.2.0",
            "_view_name": "LayoutView",
            "align_content": null,
            "align_items": null,
            "align_self": null,
            "border": null,
            "bottom": null,
            "display": null,
            "flex": null,
            "flex_flow": null,
            "grid_area": null,
            "grid_auto_columns": null,
            "grid_auto_flow": null,
            "grid_auto_rows": null,
            "grid_column": null,
            "grid_gap": null,
            "grid_row": null,
            "grid_template_areas": null,
            "grid_template_columns": null,
            "grid_template_rows": null,
            "height": null,
            "justify_content": null,
            "justify_items": null,
            "left": null,
            "margin": null,
            "max_height": null,
            "max_width": null,
            "min_height": null,
            "min_width": null,
            "object_fit": null,
            "object_position": null,
            "order": null,
            "overflow": null,
            "overflow_x": null,
            "overflow_y": null,
            "padding": null,
            "right": null,
            "top": null,
            "visibility": null,
            "width": null
          }
        },
        "f2c86f931b8b4eccb61202946f7da87d": {
          "model_module": "@jupyter-widgets/controls",
          "model_name": "DescriptionStyleModel",
          "model_module_version": "1.5.0",
          "state": {
            "_model_module": "@jupyter-widgets/controls",
            "_model_module_version": "1.5.0",
            "_model_name": "DescriptionStyleModel",
            "_view_count": null,
            "_view_module": "@jupyter-widgets/base",
            "_view_module_version": "1.2.0",
            "_view_name": "StyleView",
            "description_width": ""
          }
        },
        "6b4f676eac0747408827dc22991c9b2b": {
          "model_module": "@jupyter-widgets/base",
          "model_name": "LayoutModel",
          "model_module_version": "1.2.0",
          "state": {
            "_model_module": "@jupyter-widgets/base",
            "_model_module_version": "1.2.0",
            "_model_name": "LayoutModel",
            "_view_count": null,
            "_view_module": "@jupyter-widgets/base",
            "_view_module_version": "1.2.0",
            "_view_name": "LayoutView",
            "align_content": null,
            "align_items": null,
            "align_self": null,
            "border": null,
            "bottom": null,
            "display": null,
            "flex": null,
            "flex_flow": null,
            "grid_area": null,
            "grid_auto_columns": null,
            "grid_auto_flow": null,
            "grid_auto_rows": null,
            "grid_column": null,
            "grid_gap": null,
            "grid_row": null,
            "grid_template_areas": null,
            "grid_template_columns": null,
            "grid_template_rows": null,
            "height": null,
            "justify_content": null,
            "justify_items": null,
            "left": null,
            "margin": null,
            "max_height": null,
            "max_width": null,
            "min_height": null,
            "min_width": null,
            "object_fit": null,
            "object_position": null,
            "order": null,
            "overflow": null,
            "overflow_x": null,
            "overflow_y": null,
            "padding": null,
            "right": null,
            "top": null,
            "visibility": null,
            "width": null
          }
        },
        "312a74fd58304dab9230219a9b8623e3": {
          "model_module": "@jupyter-widgets/controls",
          "model_name": "ProgressStyleModel",
          "model_module_version": "1.5.0",
          "state": {
            "_model_module": "@jupyter-widgets/controls",
            "_model_module_version": "1.5.0",
            "_model_name": "ProgressStyleModel",
            "_view_count": null,
            "_view_module": "@jupyter-widgets/base",
            "_view_module_version": "1.2.0",
            "_view_name": "StyleView",
            "bar_color": null,
            "description_width": ""
          }
        },
        "60bd0837b07e4f29a3002809a352735a": {
          "model_module": "@jupyter-widgets/base",
          "model_name": "LayoutModel",
          "model_module_version": "1.2.0",
          "state": {
            "_model_module": "@jupyter-widgets/base",
            "_model_module_version": "1.2.0",
            "_model_name": "LayoutModel",
            "_view_count": null,
            "_view_module": "@jupyter-widgets/base",
            "_view_module_version": "1.2.0",
            "_view_name": "LayoutView",
            "align_content": null,
            "align_items": null,
            "align_self": null,
            "border": null,
            "bottom": null,
            "display": null,
            "flex": null,
            "flex_flow": null,
            "grid_area": null,
            "grid_auto_columns": null,
            "grid_auto_flow": null,
            "grid_auto_rows": null,
            "grid_column": null,
            "grid_gap": null,
            "grid_row": null,
            "grid_template_areas": null,
            "grid_template_columns": null,
            "grid_template_rows": null,
            "height": null,
            "justify_content": null,
            "justify_items": null,
            "left": null,
            "margin": null,
            "max_height": null,
            "max_width": null,
            "min_height": null,
            "min_width": null,
            "object_fit": null,
            "object_position": null,
            "order": null,
            "overflow": null,
            "overflow_x": null,
            "overflow_y": null,
            "padding": null,
            "right": null,
            "top": null,
            "visibility": null,
            "width": null
          }
        },
        "87a3aabfd4544bdfa9cb3d38629416e9": {
          "model_module": "@jupyter-widgets/controls",
          "model_name": "DescriptionStyleModel",
          "model_module_version": "1.5.0",
          "state": {
            "_model_module": "@jupyter-widgets/controls",
            "_model_module_version": "1.5.0",
            "_model_name": "DescriptionStyleModel",
            "_view_count": null,
            "_view_module": "@jupyter-widgets/base",
            "_view_module_version": "1.2.0",
            "_view_name": "StyleView",
            "description_width": ""
          }
        },
        "f80748f5987c4c3689a5140bef474d25": {
          "model_module": "@jupyter-widgets/controls",
          "model_name": "HBoxModel",
          "model_module_version": "1.5.0",
          "state": {
            "_dom_classes": [],
            "_model_module": "@jupyter-widgets/controls",
            "_model_module_version": "1.5.0",
            "_model_name": "HBoxModel",
            "_view_count": null,
            "_view_module": "@jupyter-widgets/controls",
            "_view_module_version": "1.5.0",
            "_view_name": "HBoxView",
            "box_style": "",
            "children": [
              "IPY_MODEL_33b5d75e3d4a4859b80231e991b549e6",
              "IPY_MODEL_87fde5c2e81b4b75bb5751dacaf83b3f",
              "IPY_MODEL_ebf1d2817b394b3bb035d1b827552f2b"
            ],
            "layout": "IPY_MODEL_d9cbb677b3334bdbb5cc861e0e234d6e"
          }
        },
        "33b5d75e3d4a4859b80231e991b549e6": {
          "model_module": "@jupyter-widgets/controls",
          "model_name": "HTMLModel",
          "model_module_version": "1.5.0",
          "state": {
            "_dom_classes": [],
            "_model_module": "@jupyter-widgets/controls",
            "_model_module_version": "1.5.0",
            "_model_name": "HTMLModel",
            "_view_count": null,
            "_view_module": "@jupyter-widgets/controls",
            "_view_module_version": "1.5.0",
            "_view_name": "HTMLView",
            "description": "",
            "description_tooltip": null,
            "layout": "IPY_MODEL_a7b9ecd1a8f843dfa97c74bcddb1c956",
            "placeholder": "​",
            "style": "IPY_MODEL_ef3ff326f51e44a6bec9840c02063557",
            "value": "config.json: 100%"
          }
        },
        "87fde5c2e81b4b75bb5751dacaf83b3f": {
          "model_module": "@jupyter-widgets/controls",
          "model_name": "FloatProgressModel",
          "model_module_version": "1.5.0",
          "state": {
            "_dom_classes": [],
            "_model_module": "@jupyter-widgets/controls",
            "_model_module_version": "1.5.0",
            "_model_name": "FloatProgressModel",
            "_view_count": null,
            "_view_module": "@jupyter-widgets/controls",
            "_view_module_version": "1.5.0",
            "_view_name": "ProgressView",
            "bar_style": "success",
            "description": "",
            "description_tooltip": null,
            "layout": "IPY_MODEL_77c724c5925745398b91b10a9c8c5d43",
            "max": 385,
            "min": 0,
            "orientation": "horizontal",
            "style": "IPY_MODEL_35df690051534396b3e4a9cf11fae966",
            "value": 385
          }
        },
        "ebf1d2817b394b3bb035d1b827552f2b": {
          "model_module": "@jupyter-widgets/controls",
          "model_name": "HTMLModel",
          "model_module_version": "1.5.0",
          "state": {
            "_dom_classes": [],
            "_model_module": "@jupyter-widgets/controls",
            "_model_module_version": "1.5.0",
            "_model_name": "HTMLModel",
            "_view_count": null,
            "_view_module": "@jupyter-widgets/controls",
            "_view_module_version": "1.5.0",
            "_view_name": "HTMLView",
            "description": "",
            "description_tooltip": null,
            "layout": "IPY_MODEL_f9792dfd9d4f496fbad4f9c8b7945763",
            "placeholder": "​",
            "style": "IPY_MODEL_cd8aa2829e8d4afebad008978bbcc1e9",
            "value": " 385/385 [00:00&lt;00:00, 28.3kB/s]"
          }
        },
        "d9cbb677b3334bdbb5cc861e0e234d6e": {
          "model_module": "@jupyter-widgets/base",
          "model_name": "LayoutModel",
          "model_module_version": "1.2.0",
          "state": {
            "_model_module": "@jupyter-widgets/base",
            "_model_module_version": "1.2.0",
            "_model_name": "LayoutModel",
            "_view_count": null,
            "_view_module": "@jupyter-widgets/base",
            "_view_module_version": "1.2.0",
            "_view_name": "LayoutView",
            "align_content": null,
            "align_items": null,
            "align_self": null,
            "border": null,
            "bottom": null,
            "display": null,
            "flex": null,
            "flex_flow": null,
            "grid_area": null,
            "grid_auto_columns": null,
            "grid_auto_flow": null,
            "grid_auto_rows": null,
            "grid_column": null,
            "grid_gap": null,
            "grid_row": null,
            "grid_template_areas": null,
            "grid_template_columns": null,
            "grid_template_rows": null,
            "height": null,
            "justify_content": null,
            "justify_items": null,
            "left": null,
            "margin": null,
            "max_height": null,
            "max_width": null,
            "min_height": null,
            "min_width": null,
            "object_fit": null,
            "object_position": null,
            "order": null,
            "overflow": null,
            "overflow_x": null,
            "overflow_y": null,
            "padding": null,
            "right": null,
            "top": null,
            "visibility": null,
            "width": null
          }
        },
        "a7b9ecd1a8f843dfa97c74bcddb1c956": {
          "model_module": "@jupyter-widgets/base",
          "model_name": "LayoutModel",
          "model_module_version": "1.2.0",
          "state": {
            "_model_module": "@jupyter-widgets/base",
            "_model_module_version": "1.2.0",
            "_model_name": "LayoutModel",
            "_view_count": null,
            "_view_module": "@jupyter-widgets/base",
            "_view_module_version": "1.2.0",
            "_view_name": "LayoutView",
            "align_content": null,
            "align_items": null,
            "align_self": null,
            "border": null,
            "bottom": null,
            "display": null,
            "flex": null,
            "flex_flow": null,
            "grid_area": null,
            "grid_auto_columns": null,
            "grid_auto_flow": null,
            "grid_auto_rows": null,
            "grid_column": null,
            "grid_gap": null,
            "grid_row": null,
            "grid_template_areas": null,
            "grid_template_columns": null,
            "grid_template_rows": null,
            "height": null,
            "justify_content": null,
            "justify_items": null,
            "left": null,
            "margin": null,
            "max_height": null,
            "max_width": null,
            "min_height": null,
            "min_width": null,
            "object_fit": null,
            "object_position": null,
            "order": null,
            "overflow": null,
            "overflow_x": null,
            "overflow_y": null,
            "padding": null,
            "right": null,
            "top": null,
            "visibility": null,
            "width": null
          }
        },
        "ef3ff326f51e44a6bec9840c02063557": {
          "model_module": "@jupyter-widgets/controls",
          "model_name": "DescriptionStyleModel",
          "model_module_version": "1.5.0",
          "state": {
            "_model_module": "@jupyter-widgets/controls",
            "_model_module_version": "1.5.0",
            "_model_name": "DescriptionStyleModel",
            "_view_count": null,
            "_view_module": "@jupyter-widgets/base",
            "_view_module_version": "1.2.0",
            "_view_name": "StyleView",
            "description_width": ""
          }
        },
        "77c724c5925745398b91b10a9c8c5d43": {
          "model_module": "@jupyter-widgets/base",
          "model_name": "LayoutModel",
          "model_module_version": "1.2.0",
          "state": {
            "_model_module": "@jupyter-widgets/base",
            "_model_module_version": "1.2.0",
            "_model_name": "LayoutModel",
            "_view_count": null,
            "_view_module": "@jupyter-widgets/base",
            "_view_module_version": "1.2.0",
            "_view_name": "LayoutView",
            "align_content": null,
            "align_items": null,
            "align_self": null,
            "border": null,
            "bottom": null,
            "display": null,
            "flex": null,
            "flex_flow": null,
            "grid_area": null,
            "grid_auto_columns": null,
            "grid_auto_flow": null,
            "grid_auto_rows": null,
            "grid_column": null,
            "grid_gap": null,
            "grid_row": null,
            "grid_template_areas": null,
            "grid_template_columns": null,
            "grid_template_rows": null,
            "height": null,
            "justify_content": null,
            "justify_items": null,
            "left": null,
            "margin": null,
            "max_height": null,
            "max_width": null,
            "min_height": null,
            "min_width": null,
            "object_fit": null,
            "object_position": null,
            "order": null,
            "overflow": null,
            "overflow_x": null,
            "overflow_y": null,
            "padding": null,
            "right": null,
            "top": null,
            "visibility": null,
            "width": null
          }
        },
        "35df690051534396b3e4a9cf11fae966": {
          "model_module": "@jupyter-widgets/controls",
          "model_name": "ProgressStyleModel",
          "model_module_version": "1.5.0",
          "state": {
            "_model_module": "@jupyter-widgets/controls",
            "_model_module_version": "1.5.0",
            "_model_name": "ProgressStyleModel",
            "_view_count": null,
            "_view_module": "@jupyter-widgets/base",
            "_view_module_version": "1.2.0",
            "_view_name": "StyleView",
            "bar_color": null,
            "description_width": ""
          }
        },
        "f9792dfd9d4f496fbad4f9c8b7945763": {
          "model_module": "@jupyter-widgets/base",
          "model_name": "LayoutModel",
          "model_module_version": "1.2.0",
          "state": {
            "_model_module": "@jupyter-widgets/base",
            "_model_module_version": "1.2.0",
            "_model_name": "LayoutModel",
            "_view_count": null,
            "_view_module": "@jupyter-widgets/base",
            "_view_module_version": "1.2.0",
            "_view_name": "LayoutView",
            "align_content": null,
            "align_items": null,
            "align_self": null,
            "border": null,
            "bottom": null,
            "display": null,
            "flex": null,
            "flex_flow": null,
            "grid_area": null,
            "grid_auto_columns": null,
            "grid_auto_flow": null,
            "grid_auto_rows": null,
            "grid_column": null,
            "grid_gap": null,
            "grid_row": null,
            "grid_template_areas": null,
            "grid_template_columns": null,
            "grid_template_rows": null,
            "height": null,
            "justify_content": null,
            "justify_items": null,
            "left": null,
            "margin": null,
            "max_height": null,
            "max_width": null,
            "min_height": null,
            "min_width": null,
            "object_fit": null,
            "object_position": null,
            "order": null,
            "overflow": null,
            "overflow_x": null,
            "overflow_y": null,
            "padding": null,
            "right": null,
            "top": null,
            "visibility": null,
            "width": null
          }
        },
        "cd8aa2829e8d4afebad008978bbcc1e9": {
          "model_module": "@jupyter-widgets/controls",
          "model_name": "DescriptionStyleModel",
          "model_module_version": "1.5.0",
          "state": {
            "_model_module": "@jupyter-widgets/controls",
            "_model_module_version": "1.5.0",
            "_model_name": "DescriptionStyleModel",
            "_view_count": null,
            "_view_module": "@jupyter-widgets/base",
            "_view_module_version": "1.2.0",
            "_view_name": "StyleView",
            "description_width": ""
          }
        },
        "836315f8b47b4c2eafe0b259c10772f3": {
          "model_module": "@jupyter-widgets/controls",
          "model_name": "HBoxModel",
          "model_module_version": "1.5.0",
          "state": {
            "_dom_classes": [],
            "_model_module": "@jupyter-widgets/controls",
            "_model_module_version": "1.5.0",
            "_model_name": "HBoxModel",
            "_view_count": null,
            "_view_module": "@jupyter-widgets/controls",
            "_view_module_version": "1.5.0",
            "_view_name": "HBoxView",
            "box_style": "",
            "children": [
              "IPY_MODEL_25c8e6fa93ec49a2813976db59f1fe34",
              "IPY_MODEL_96ef2e5f90774e59a42c9e594135ff1e",
              "IPY_MODEL_8eab18474e0c47db864c02f108162e89"
            ],
            "layout": "IPY_MODEL_e88be4a0398f4021933afd01e572282d"
          }
        },
        "25c8e6fa93ec49a2813976db59f1fe34": {
          "model_module": "@jupyter-widgets/controls",
          "model_name": "HTMLModel",
          "model_module_version": "1.5.0",
          "state": {
            "_dom_classes": [],
            "_model_module": "@jupyter-widgets/controls",
            "_model_module_version": "1.5.0",
            "_model_name": "HTMLModel",
            "_view_count": null,
            "_view_module": "@jupyter-widgets/controls",
            "_view_module_version": "1.5.0",
            "_view_name": "HTMLView",
            "description": "",
            "description_tooltip": null,
            "layout": "IPY_MODEL_49cc21df89cf4588b944c328164a7dfe",
            "placeholder": "​",
            "style": "IPY_MODEL_1ef7ad8b990f4862bf37063a544d9a95",
            "value": "vocab.txt: 100%"
          }
        },
        "96ef2e5f90774e59a42c9e594135ff1e": {
          "model_module": "@jupyter-widgets/controls",
          "model_name": "FloatProgressModel",
          "model_module_version": "1.5.0",
          "state": {
            "_dom_classes": [],
            "_model_module": "@jupyter-widgets/controls",
            "_model_module_version": "1.5.0",
            "_model_name": "FloatProgressModel",
            "_view_count": null,
            "_view_module": "@jupyter-widgets/controls",
            "_view_module_version": "1.5.0",
            "_view_name": "ProgressView",
            "bar_style": "success",
            "description": "",
            "description_tooltip": null,
            "layout": "IPY_MODEL_31ea742322eb42a1ba71dfaacb2f5f0b",
            "max": 251003,
            "min": 0,
            "orientation": "horizontal",
            "style": "IPY_MODEL_f22dbeaae9be46c793f056e0d0499665",
            "value": 251003
          }
        },
        "8eab18474e0c47db864c02f108162e89": {
          "model_module": "@jupyter-widgets/controls",
          "model_name": "HTMLModel",
          "model_module_version": "1.5.0",
          "state": {
            "_dom_classes": [],
            "_model_module": "@jupyter-widgets/controls",
            "_model_module_version": "1.5.0",
            "_model_name": "HTMLModel",
            "_view_count": null,
            "_view_module": "@jupyter-widgets/controls",
            "_view_module_version": "1.5.0",
            "_view_name": "HTMLView",
            "description": "",
            "description_tooltip": null,
            "layout": "IPY_MODEL_2579349eefa54c668e73924f74336b6f",
            "placeholder": "​",
            "style": "IPY_MODEL_673b918d260f4f50a8ba85fb9ba97cd5",
            "value": " 251k/251k [00:00&lt;00:00, 4.92MB/s]"
          }
        },
        "e88be4a0398f4021933afd01e572282d": {
          "model_module": "@jupyter-widgets/base",
          "model_name": "LayoutModel",
          "model_module_version": "1.2.0",
          "state": {
            "_model_module": "@jupyter-widgets/base",
            "_model_module_version": "1.2.0",
            "_model_name": "LayoutModel",
            "_view_count": null,
            "_view_module": "@jupyter-widgets/base",
            "_view_module_version": "1.2.0",
            "_view_name": "LayoutView",
            "align_content": null,
            "align_items": null,
            "align_self": null,
            "border": null,
            "bottom": null,
            "display": null,
            "flex": null,
            "flex_flow": null,
            "grid_area": null,
            "grid_auto_columns": null,
            "grid_auto_flow": null,
            "grid_auto_rows": null,
            "grid_column": null,
            "grid_gap": null,
            "grid_row": null,
            "grid_template_areas": null,
            "grid_template_columns": null,
            "grid_template_rows": null,
            "height": null,
            "justify_content": null,
            "justify_items": null,
            "left": null,
            "margin": null,
            "max_height": null,
            "max_width": null,
            "min_height": null,
            "min_width": null,
            "object_fit": null,
            "object_position": null,
            "order": null,
            "overflow": null,
            "overflow_x": null,
            "overflow_y": null,
            "padding": null,
            "right": null,
            "top": null,
            "visibility": null,
            "width": null
          }
        },
        "49cc21df89cf4588b944c328164a7dfe": {
          "model_module": "@jupyter-widgets/base",
          "model_name": "LayoutModel",
          "model_module_version": "1.2.0",
          "state": {
            "_model_module": "@jupyter-widgets/base",
            "_model_module_version": "1.2.0",
            "_model_name": "LayoutModel",
            "_view_count": null,
            "_view_module": "@jupyter-widgets/base",
            "_view_module_version": "1.2.0",
            "_view_name": "LayoutView",
            "align_content": null,
            "align_items": null,
            "align_self": null,
            "border": null,
            "bottom": null,
            "display": null,
            "flex": null,
            "flex_flow": null,
            "grid_area": null,
            "grid_auto_columns": null,
            "grid_auto_flow": null,
            "grid_auto_rows": null,
            "grid_column": null,
            "grid_gap": null,
            "grid_row": null,
            "grid_template_areas": null,
            "grid_template_columns": null,
            "grid_template_rows": null,
            "height": null,
            "justify_content": null,
            "justify_items": null,
            "left": null,
            "margin": null,
            "max_height": null,
            "max_width": null,
            "min_height": null,
            "min_width": null,
            "object_fit": null,
            "object_position": null,
            "order": null,
            "overflow": null,
            "overflow_x": null,
            "overflow_y": null,
            "padding": null,
            "right": null,
            "top": null,
            "visibility": null,
            "width": null
          }
        },
        "1ef7ad8b990f4862bf37063a544d9a95": {
          "model_module": "@jupyter-widgets/controls",
          "model_name": "DescriptionStyleModel",
          "model_module_version": "1.5.0",
          "state": {
            "_model_module": "@jupyter-widgets/controls",
            "_model_module_version": "1.5.0",
            "_model_name": "DescriptionStyleModel",
            "_view_count": null,
            "_view_module": "@jupyter-widgets/base",
            "_view_module_version": "1.2.0",
            "_view_name": "StyleView",
            "description_width": ""
          }
        },
        "31ea742322eb42a1ba71dfaacb2f5f0b": {
          "model_module": "@jupyter-widgets/base",
          "model_name": "LayoutModel",
          "model_module_version": "1.2.0",
          "state": {
            "_model_module": "@jupyter-widgets/base",
            "_model_module_version": "1.2.0",
            "_model_name": "LayoutModel",
            "_view_count": null,
            "_view_module": "@jupyter-widgets/base",
            "_view_module_version": "1.2.0",
            "_view_name": "LayoutView",
            "align_content": null,
            "align_items": null,
            "align_self": null,
            "border": null,
            "bottom": null,
            "display": null,
            "flex": null,
            "flex_flow": null,
            "grid_area": null,
            "grid_auto_columns": null,
            "grid_auto_flow": null,
            "grid_auto_rows": null,
            "grid_column": null,
            "grid_gap": null,
            "grid_row": null,
            "grid_template_areas": null,
            "grid_template_columns": null,
            "grid_template_rows": null,
            "height": null,
            "justify_content": null,
            "justify_items": null,
            "left": null,
            "margin": null,
            "max_height": null,
            "max_width": null,
            "min_height": null,
            "min_width": null,
            "object_fit": null,
            "object_position": null,
            "order": null,
            "overflow": null,
            "overflow_x": null,
            "overflow_y": null,
            "padding": null,
            "right": null,
            "top": null,
            "visibility": null,
            "width": null
          }
        },
        "f22dbeaae9be46c793f056e0d0499665": {
          "model_module": "@jupyter-widgets/controls",
          "model_name": "ProgressStyleModel",
          "model_module_version": "1.5.0",
          "state": {
            "_model_module": "@jupyter-widgets/controls",
            "_model_module_version": "1.5.0",
            "_model_name": "ProgressStyleModel",
            "_view_count": null,
            "_view_module": "@jupyter-widgets/base",
            "_view_module_version": "1.2.0",
            "_view_name": "StyleView",
            "bar_color": null,
            "description_width": ""
          }
        },
        "2579349eefa54c668e73924f74336b6f": {
          "model_module": "@jupyter-widgets/base",
          "model_name": "LayoutModel",
          "model_module_version": "1.2.0",
          "state": {
            "_model_module": "@jupyter-widgets/base",
            "_model_module_version": "1.2.0",
            "_model_name": "LayoutModel",
            "_view_count": null,
            "_view_module": "@jupyter-widgets/base",
            "_view_module_version": "1.2.0",
            "_view_name": "LayoutView",
            "align_content": null,
            "align_items": null,
            "align_self": null,
            "border": null,
            "bottom": null,
            "display": null,
            "flex": null,
            "flex_flow": null,
            "grid_area": null,
            "grid_auto_columns": null,
            "grid_auto_flow": null,
            "grid_auto_rows": null,
            "grid_column": null,
            "grid_gap": null,
            "grid_row": null,
            "grid_template_areas": null,
            "grid_template_columns": null,
            "grid_template_rows": null,
            "height": null,
            "justify_content": null,
            "justify_items": null,
            "left": null,
            "margin": null,
            "max_height": null,
            "max_width": null,
            "min_height": null,
            "min_width": null,
            "object_fit": null,
            "object_position": null,
            "order": null,
            "overflow": null,
            "overflow_x": null,
            "overflow_y": null,
            "padding": null,
            "right": null,
            "top": null,
            "visibility": null,
            "width": null
          }
        },
        "673b918d260f4f50a8ba85fb9ba97cd5": {
          "model_module": "@jupyter-widgets/controls",
          "model_name": "DescriptionStyleModel",
          "model_module_version": "1.5.0",
          "state": {
            "_model_module": "@jupyter-widgets/controls",
            "_model_module_version": "1.5.0",
            "_model_name": "DescriptionStyleModel",
            "_view_count": null,
            "_view_module": "@jupyter-widgets/base",
            "_view_module_version": "1.2.0",
            "_view_name": "StyleView",
            "description_width": ""
          }
        },
        "6badec1257414c8d8c1022a99e4ded54": {
          "model_module": "@jupyter-widgets/controls",
          "model_name": "HBoxModel",
          "model_module_version": "1.5.0",
          "state": {
            "_dom_classes": [],
            "_model_module": "@jupyter-widgets/controls",
            "_model_module_version": "1.5.0",
            "_model_name": "HBoxModel",
            "_view_count": null,
            "_view_module": "@jupyter-widgets/controls",
            "_view_module_version": "1.5.0",
            "_view_name": "HBoxView",
            "box_style": "",
            "children": [
              "IPY_MODEL_a9b8a6d95adf4a6b8ef1972a337ffe2d",
              "IPY_MODEL_f2f54478cb5c418c96aa1eb01a81297e",
              "IPY_MODEL_feea21b667c9466a8966287716d2addf"
            ],
            "layout": "IPY_MODEL_8435890e59454e9499a50e6e900fe7de"
          }
        },
        "a9b8a6d95adf4a6b8ef1972a337ffe2d": {
          "model_module": "@jupyter-widgets/controls",
          "model_name": "HTMLModel",
          "model_module_version": "1.5.0",
          "state": {
            "_dom_classes": [],
            "_model_module": "@jupyter-widgets/controls",
            "_model_module_version": "1.5.0",
            "_model_name": "HTMLModel",
            "_view_count": null,
            "_view_module": "@jupyter-widgets/controls",
            "_view_module_version": "1.5.0",
            "_view_name": "HTMLView",
            "description": "",
            "description_tooltip": null,
            "layout": "IPY_MODEL_05e299d6e096454e8f9d757dfb51cde0",
            "placeholder": "​",
            "style": "IPY_MODEL_9e1afa6459ee409399ca719958d13dc4",
            "value": "pytorch_model.bin: 100%"
          }
        },
        "f2f54478cb5c418c96aa1eb01a81297e": {
          "model_module": "@jupyter-widgets/controls",
          "model_name": "FloatProgressModel",
          "model_module_version": "1.5.0",
          "state": {
            "_dom_classes": [],
            "_model_module": "@jupyter-widgets/controls",
            "_model_module_version": "1.5.0",
            "_model_name": "FloatProgressModel",
            "_view_count": null,
            "_view_module": "@jupyter-widgets/controls",
            "_view_module_version": "1.5.0",
            "_view_name": "ProgressView",
            "bar_style": "success",
            "description": "",
            "description_tooltip": null,
            "layout": "IPY_MODEL_da3549c819f5493b9e8513666af2eb23",
            "max": 445018508,
            "min": 0,
            "orientation": "horizontal",
            "style": "IPY_MODEL_1a971d0dc03546948b49d62c36b0d32f",
            "value": 445018508
          }
        },
        "feea21b667c9466a8966287716d2addf": {
          "model_module": "@jupyter-widgets/controls",
          "model_name": "HTMLModel",
          "model_module_version": "1.5.0",
          "state": {
            "_dom_classes": [],
            "_model_module": "@jupyter-widgets/controls",
            "_model_module_version": "1.5.0",
            "_model_name": "HTMLModel",
            "_view_count": null,
            "_view_module": "@jupyter-widgets/controls",
            "_view_module_version": "1.5.0",
            "_view_name": "HTMLView",
            "description": "",
            "description_tooltip": null,
            "layout": "IPY_MODEL_9f1bd30523224d2a9743ddee7f42d955",
            "placeholder": "​",
            "style": "IPY_MODEL_74b8582d9eb949b3b341b9d4d4dcf5d9",
            "value": " 445M/445M [00:01&lt;00:00, 259MB/s]"
          }
        },
        "8435890e59454e9499a50e6e900fe7de": {
          "model_module": "@jupyter-widgets/base",
          "model_name": "LayoutModel",
          "model_module_version": "1.2.0",
          "state": {
            "_model_module": "@jupyter-widgets/base",
            "_model_module_version": "1.2.0",
            "_model_name": "LayoutModel",
            "_view_count": null,
            "_view_module": "@jupyter-widgets/base",
            "_view_module_version": "1.2.0",
            "_view_name": "LayoutView",
            "align_content": null,
            "align_items": null,
            "align_self": null,
            "border": null,
            "bottom": null,
            "display": null,
            "flex": null,
            "flex_flow": null,
            "grid_area": null,
            "grid_auto_columns": null,
            "grid_auto_flow": null,
            "grid_auto_rows": null,
            "grid_column": null,
            "grid_gap": null,
            "grid_row": null,
            "grid_template_areas": null,
            "grid_template_columns": null,
            "grid_template_rows": null,
            "height": null,
            "justify_content": null,
            "justify_items": null,
            "left": null,
            "margin": null,
            "max_height": null,
            "max_width": null,
            "min_height": null,
            "min_width": null,
            "object_fit": null,
            "object_position": null,
            "order": null,
            "overflow": null,
            "overflow_x": null,
            "overflow_y": null,
            "padding": null,
            "right": null,
            "top": null,
            "visibility": null,
            "width": null
          }
        },
        "05e299d6e096454e8f9d757dfb51cde0": {
          "model_module": "@jupyter-widgets/base",
          "model_name": "LayoutModel",
          "model_module_version": "1.2.0",
          "state": {
            "_model_module": "@jupyter-widgets/base",
            "_model_module_version": "1.2.0",
            "_model_name": "LayoutModel",
            "_view_count": null,
            "_view_module": "@jupyter-widgets/base",
            "_view_module_version": "1.2.0",
            "_view_name": "LayoutView",
            "align_content": null,
            "align_items": null,
            "align_self": null,
            "border": null,
            "bottom": null,
            "display": null,
            "flex": null,
            "flex_flow": null,
            "grid_area": null,
            "grid_auto_columns": null,
            "grid_auto_flow": null,
            "grid_auto_rows": null,
            "grid_column": null,
            "grid_gap": null,
            "grid_row": null,
            "grid_template_areas": null,
            "grid_template_columns": null,
            "grid_template_rows": null,
            "height": null,
            "justify_content": null,
            "justify_items": null,
            "left": null,
            "margin": null,
            "max_height": null,
            "max_width": null,
            "min_height": null,
            "min_width": null,
            "object_fit": null,
            "object_position": null,
            "order": null,
            "overflow": null,
            "overflow_x": null,
            "overflow_y": null,
            "padding": null,
            "right": null,
            "top": null,
            "visibility": null,
            "width": null
          }
        },
        "9e1afa6459ee409399ca719958d13dc4": {
          "model_module": "@jupyter-widgets/controls",
          "model_name": "DescriptionStyleModel",
          "model_module_version": "1.5.0",
          "state": {
            "_model_module": "@jupyter-widgets/controls",
            "_model_module_version": "1.5.0",
            "_model_name": "DescriptionStyleModel",
            "_view_count": null,
            "_view_module": "@jupyter-widgets/base",
            "_view_module_version": "1.2.0",
            "_view_name": "StyleView",
            "description_width": ""
          }
        },
        "da3549c819f5493b9e8513666af2eb23": {
          "model_module": "@jupyter-widgets/base",
          "model_name": "LayoutModel",
          "model_module_version": "1.2.0",
          "state": {
            "_model_module": "@jupyter-widgets/base",
            "_model_module_version": "1.2.0",
            "_model_name": "LayoutModel",
            "_view_count": null,
            "_view_module": "@jupyter-widgets/base",
            "_view_module_version": "1.2.0",
            "_view_name": "LayoutView",
            "align_content": null,
            "align_items": null,
            "align_self": null,
            "border": null,
            "bottom": null,
            "display": null,
            "flex": null,
            "flex_flow": null,
            "grid_area": null,
            "grid_auto_columns": null,
            "grid_auto_flow": null,
            "grid_auto_rows": null,
            "grid_column": null,
            "grid_gap": null,
            "grid_row": null,
            "grid_template_areas": null,
            "grid_template_columns": null,
            "grid_template_rows": null,
            "height": null,
            "justify_content": null,
            "justify_items": null,
            "left": null,
            "margin": null,
            "max_height": null,
            "max_width": null,
            "min_height": null,
            "min_width": null,
            "object_fit": null,
            "object_position": null,
            "order": null,
            "overflow": null,
            "overflow_x": null,
            "overflow_y": null,
            "padding": null,
            "right": null,
            "top": null,
            "visibility": null,
            "width": null
          }
        },
        "1a971d0dc03546948b49d62c36b0d32f": {
          "model_module": "@jupyter-widgets/controls",
          "model_name": "ProgressStyleModel",
          "model_module_version": "1.5.0",
          "state": {
            "_model_module": "@jupyter-widgets/controls",
            "_model_module_version": "1.5.0",
            "_model_name": "ProgressStyleModel",
            "_view_count": null,
            "_view_module": "@jupyter-widgets/base",
            "_view_module_version": "1.2.0",
            "_view_name": "StyleView",
            "bar_color": null,
            "description_width": ""
          }
        },
        "9f1bd30523224d2a9743ddee7f42d955": {
          "model_module": "@jupyter-widgets/base",
          "model_name": "LayoutModel",
          "model_module_version": "1.2.0",
          "state": {
            "_model_module": "@jupyter-widgets/base",
            "_model_module_version": "1.2.0",
            "_model_name": "LayoutModel",
            "_view_count": null,
            "_view_module": "@jupyter-widgets/base",
            "_view_module_version": "1.2.0",
            "_view_name": "LayoutView",
            "align_content": null,
            "align_items": null,
            "align_self": null,
            "border": null,
            "bottom": null,
            "display": null,
            "flex": null,
            "flex_flow": null,
            "grid_area": null,
            "grid_auto_columns": null,
            "grid_auto_flow": null,
            "grid_auto_rows": null,
            "grid_column": null,
            "grid_gap": null,
            "grid_row": null,
            "grid_template_areas": null,
            "grid_template_columns": null,
            "grid_template_rows": null,
            "height": null,
            "justify_content": null,
            "justify_items": null,
            "left": null,
            "margin": null,
            "max_height": null,
            "max_width": null,
            "min_height": null,
            "min_width": null,
            "object_fit": null,
            "object_position": null,
            "order": null,
            "overflow": null,
            "overflow_x": null,
            "overflow_y": null,
            "padding": null,
            "right": null,
            "top": null,
            "visibility": null,
            "width": null
          }
        },
        "74b8582d9eb949b3b341b9d4d4dcf5d9": {
          "model_module": "@jupyter-widgets/controls",
          "model_name": "DescriptionStyleModel",
          "model_module_version": "1.5.0",
          "state": {
            "_model_module": "@jupyter-widgets/controls",
            "_model_module_version": "1.5.0",
            "_model_name": "DescriptionStyleModel",
            "_view_count": null,
            "_view_module": "@jupyter-widgets/base",
            "_view_module_version": "1.2.0",
            "_view_name": "StyleView",
            "description_width": ""
          }
        }
      }
    }
  },
  "nbformat": 4,
  "nbformat_minor": 0
}